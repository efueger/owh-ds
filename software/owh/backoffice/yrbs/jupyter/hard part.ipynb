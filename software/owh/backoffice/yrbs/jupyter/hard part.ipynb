{
 "cells": [
  {
   "cell_type": "code",
   "execution_count": null,
   "metadata": {
    "collapsed": false
   },
   "outputs": [],
   "source": [
    "# Read file\n",
    "library(\"survey\")\n",
    "library(\"sas7bdat\") \n",
    "# 15624 x 239\n",
    "#AA = read.sas7bdat(\"C:/Users/Rex/Desktop/OWH/yrbs2015.sas7bdat\")\n",
    "#save(AA, file=\"C:/Users/Rex/Desktop/OWH/yrb2015.Rdata\")\n",
    "load(\"C:/Users/Rex/Desktop/OWH/yrb2015.Rdata\")\n",
    "\"file loaded\"\n"
   ]
  },
  {
   "cell_type": "code",
   "execution_count": null,
   "metadata": {
    "collapsed": false
   },
   "outputs": [],
   "source": [
    "paste. = function(...,sep='') paste(...,sep=sep)\n",
    "\n",
    "tidyresult = function(res) {\n",
    "    foo = c(mean(res),SE(res), confint(res))\n",
    "    names(foo)  = NULL\n",
    "    foo\n",
    "}\n",
    "    \n",
    "cc = function(v) {\n",
    "    s = paste0(\"c(\",v[1])\n",
    "    v = v[-1]\n",
    "    for (x in v) s = paste0(s,\",\",x)\n",
    "    return(paste0(s,\")\"))\n",
    "}\n",
    "    \n",
    "yrbssCalculate =\n",
    "  function (\n",
    "    locale = 'national',\n",
    "      year = '2015',\n",
    "    # Responses to be reported:\n",
    "    responses = list(Q8 = c(2, 4), Q9 = c(1, 2)),\n",
    "    # Filters (e.g. demographic) to be applied to respondents:\n",
    "    filter = list(Q1 = c(4, 5, 6), # age 15-18\n",
    "                  Q2 = a(1),\n",
    "                  # female\n",
    "                  Q5 = a(3)),  # black\n",
    "    \n",
    "      \n",
    "    \n",
    "      \n",
    "    group_by = list(\"Q3\",\"Q4\"),\n",
    "    # List of variables that responses should be grouped by.\n",
    "    # style of confidence interval; argumment to svyciprop.\n",
    "    confint = c(\"xlogit\",\n",
    "                \"logit\",\n",
    "                \"mean\",\n",
    "                \"beta\")\n",
    "  )\n",
    "  {\n",
    "    D = AA\n",
    "    design = svydesign(ids=~PSU,\n",
    "                 strata=~STRATUM,\n",
    "                 weights=~WEIGHT,\n",
    "                 data=D)\n",
    "      \n",
    "      validate.column.name = function(var) {\n",
    "          \n",
    "          if (!(var %in% colnames(D))) {print(\"Bad column name\")}\n",
    "      }\n",
    "      \n",
    "\n",
    "    #load(\"bigfile.Rda\")  # bigdata \n",
    "    #D = bigdata[[locale]]\n",
    "    #if (D==NULL) somekindoferror(locale)\n",
    "    ### for each filter condition\n",
    "    cond = TRUE\n",
    "    for (var in names(filter)) {\n",
    "        validate.column.name(var)\n",
    "        cond = cond & (D[[var]] %in% filter[[var]])\n",
    "    }\n",
    "    cat(sum(cond), \"passed filters.\\n\")\n",
    "    \n",
    "    all_by_vals = lapply(group_by, function(s) sort(unique(D[[s]])))\n",
    "    names(all_by_vals) = group_by\n",
    "    grid = expand.grid(all_by_vals)\n",
    "    #print(grid)\n",
    "    assigned = 0\n",
    "    ### for each cell in grid\n",
    "    for (i in 1:nrow(grid)) {\n",
    "        newcond = cond\n",
    "        for (s in group_by) {\n",
    "            val = grid[i,s]\n",
    "            #print(c(s,val))\n",
    "            newcond = newcond & (D[[s]] == val)\n",
    "        }\n",
    "        cat( sum(newcond), \"filtered and in grid entry.\\n\")\n",
    "        assigned = assigned + sum(newcond)\n",
    "        \n",
    "        ### for each question\n",
    "        for (resp.name in names(responses)) {\n",
    "            cat(\"\\nResponse\",resp.name,\"\\n\")\n",
    "            resp.true = D[[resp.name]] %in% responses[[resp.name]]\n",
    "            cat(\"Grid:\\n\")\n",
    "            print(grid[i,])\n",
    "            #cat(sum(resp.true), \"interesting responses.\\n\")\n",
    "            #cat(sum(resp.true & newcond), \"interesting responses in this grid cell.\\n\")\n",
    "            #cat(sum(newcond), \"subjects in this grid cell.\\n\")\n",
    "            prop = sum(resp.true & newcond) / sum(newcond)\n",
    "            count = sum(!is.na(D[[resp.name]]) & newcond)\n",
    "            cat(\"Count\", count, \"\\n\")\n",
    "            if (count == 0) next\n",
    "            cat(\"Proportion\", prop, \"\\n\")\n",
    "            \n",
    "            ss = subset(design,newcond)\n",
    "            bar = paste.(\"svyciprop(~(\",resp.name,\"%in%\",cc(responses[[resp.name]]),\"),\",\n",
    "                        \"ss, method='xlogit', na.rm=TRUE)\")\n",
    "            print(bar)\n",
    "            print(round(100*tidyresult(eval(parse(text=bar))),2))\n",
    "\n",
    "            \n",
    "        }\n",
    "    }     \n",
    "    cat(assigned, \"assigned to grid.\\n\")\n",
    "    cat(\"\\n\") \n",
    "  }\n",
    "      \n",
    "\n",
    "    yrbssCalculate(filter=list(QN8=1:2))\n",
    "    yrbssCalculate(filter=list(QN9=c(1,3,5)))\n",
    "    yrbssCalculate(filter=list(QN8=1:2, QN9=c(1,3,5)))\n",
    "    yrbssCalculate(filter=list(Q1=c(4, 5, 6), # age 15-18\n",
    "                              Q2=c(1), # female\n",
    "                              Q5=c(\"C\",\"E\")))"
   ]
  },
  {
   "cell_type": "code",
   "execution_count": null,
   "metadata": {
    "collapsed": false,
    "scrolled": true
   },
   "outputs": [],
   "source": [
    "# Attach level to demographic columns\n",
    "levels(AA$Q1) = c(\"\",\"<=12\",\"13\",\"14\",\"15\",\"16\",\"17\",\">=18\")\n",
    "levels(AA$Q2) = c(\"\",\"Female\",\"Male\")\n",
    "levels(AA$Q3) = c(\"\",\"9th\",\"10th\",\"11th\",\"12th\",\"Other\")\n",
    "levels(AA$Q4) = c(\"\",\"Yes\",\"No\")\n",
    "levels(AA$RACEETH) =  c(\"\",\"AI/AN\",\"Asian\",\"Black-African-American\",\"NH/PI\",\"White\",\n",
    "                        \"Hispanic/Latino\",\"Multiple-Hispanic\",\"Multiple-Non-Hispanic\")\n",
    "\"OK\""
   ]
  },
  {
   "cell_type": "code",
   "execution_count": null,
   "metadata": {
    "collapsed": false
   },
   "outputs": [],
   "source": [
    "D = AA\n",
    "\n",
    "if (FALSE) {# Eliminate rows with missing demographic data.\n",
    "    b1 = AA$Q1==\"\" #age\n",
    "    b2 = AA$Q2==\"\" #sex\n",
    "    b3 = AA$Q3==\"\" #grade\n",
    "    b4 = AA$RACEETH==\"\"\n",
    "    b5 = AA$Q3==\"Other\"\n",
    "    c(sum(b1),sum(b2),sum(b3),sum(b4),sum(b5))\n",
    "    b = b1|b2|b3|b4|b5\n",
    "    sum(b)\n",
    "        b = !b\n",
    "    # 15118 x 239\n",
    "    D = AA[b|TRUE,]\n",
    "}\n",
    "\n",
    "# D = D[!is.na(D$QN8),]\n",
    "dim(D)\n",
    "D$QN8 = 2 - D$QN8\n",
    "D$QN9 = 2 - D$QN9\n"
   ]
  },
  {
   "cell_type": "code",
   "execution_count": null,
   "metadata": {
    "collapsed": true
   },
   "outputs": [],
   "source": [
    "# Turn demographic columns in to factors.\n",
    "D$Q1 = factor(as.character(D$Q1))\n",
    "D$Q2 = factor(as.character(D$Q2))\n",
    "D$Q3 = factor(as.character(D$Q3))\n",
    "D$Q4 = factor(as.character(D$Q4))\n",
    "D$RACEETH = factor(as.character(D$RACEETH))\n",
    "D$Q3 = relevel(D$Q3,ref=\"9th\")\n"
   ]
  },
  {
   "cell_type": "code",
   "execution_count": null,
   "metadata": {
    "collapsed": false
   },
   "outputs": [],
   "source": [
    "# Label columns.\n",
    "names(D)[1:4] = c(\"Age\",\"Sex\",\"Grade\",\"Eth\")\n",
    "#names(D)[233] = \"Race\"\n",
    "names(D)[237] = \"Race\"\n",
    "names(D)"
   ]
  },
  {
   "cell_type": "code",
   "execution_count": null,
   "metadata": {
    "collapsed": false,
    "scrolled": false
   },
   "outputs": [],
   "source": [
    "yrbs = svydesign(ids=~PSU,\n",
    "                 strata=~STRATUM,\n",
    "                 weights=~WEIGHT,\n",
    "                 data=D)\n",
    "# Stratified 1 - level Cluster Sampling design (with replacement)\n",
    "# With (54) clusters.\n",
    "# svydesign(ids = ~PSU, strata = ~STRATUM, weights = ~WEIGHT, data = D)\n",
    "\n",
    "if(FALSE) {\n",
    "    svymean(~QN8,yrbs)\n",
    "svymean(~QN8,subset(yrbs,Sex=='Female'))\n",
    "svymean(~QN8,subset(yrbs,Sex=='Male'))\n",
    "svymean(~QN8,subset(yrbs,Race=='Asian'))\n",
    "svymean(~QN8,subset(yrbs,Sex=='Male' & Race=='Asian'))\n",
    "svymean(~QN8,subset(yrbs,Sex=='Female' & Race=='White'))\n",
    "svymean(~QN8,subset(yrbs,Sex=='Female' & Race=='White' & Grade=='10th'))\n",
    "svymean(~QN8,subset(yrbs,Race=='Hispanic/Latino'))\n",
    "    }\n",
    "\n",
    "handle_condition = function(D,g,r,s) {\n",
    "    condition = TRUE\n",
    "    if (g != 'Total') {\n",
    "        condition = condition & D$Grade==g\n",
    "    }\n",
    "    if (r != 'Total') {\n",
    "        condition = condition & D$Race==r\n",
    "    }\n",
    "    if (s != 'Total') {\n",
    "        condition = condition & D$Sex==s\n",
    "    }\n",
    "        \n",
    "    \n",
    "    print(paste(g,r,s))\n",
    "    cat(file=f,paste(paste(g,r,s), ','))\n",
    "    ss = subset(yrbs,condition)\n",
    "    ss2 = subset(yrbs, condition & !is.na(D$QN8))\n",
    "    print(nrow(ss2))\n",
    "    cat(file=f,nrow(ss2),',')\n",
    "    if (nrow(ss2)==0) {\n",
    "        print(\"N/A\")\n",
    "        cat(file=f,\"NA,\")\n",
    "    } else {\n",
    "        for (method in c(\"xlogit\")){  #,\"logit\",\"asin\", \"beta\",\"mean\")) {\n",
    "            foo = tidyresult(svyciprop(~QN8, ss, method=method, na.rm=TRUE))\n",
    "            print(foo)\n",
    "            foo = round(100*foo,2)\n",
    "            cat(file=f,paste(foo[1],',',foo[2],',',foo[3],',',foo[4],'\\n'))\n",
    "        }\n",
    "    }\n",
    "    cat(\"\\n\")\n",
    "\n",
    "        \n",
    "}\n",
    "\n",
    "tidyresult = function(res) {\n",
    "    foo = c(mean(res),SE(res), confint(res))\n",
    "    names(foo)  = NULL\n",
    "    foo\n",
    "}\n",
    "\n",
    "tidyratioresult = function(result) {\n",
    "    foo = c(result[[1]][1], SE(result)[1], confint(result)[1,])\n",
    "    names(foo) = NULL\n",
    "    foo\n",
    "}\n",
    "\n",
    "tidycontrastresult = function(res) {\n",
    "    foo = c(res[1],SE(res),confint(res))\n",
    "    names(foo) = NULL\n",
    "    foo\n",
    "}\n",
    "\n",
    "f = file(\"foo.csv\",\"w\")\n",
    "for (g in c('Total','9th', '10th','11th','12th')) {        \n",
    "    for (r in c('Total','Asian','Black-African-American', 'White')) {\n",
    "        for (s in c('Total','Female','Male')) {\n",
    "           # for (a in c('14','15','16')) {\n",
    "                  handle_condition(D,g,r,s)\n",
    "         #   }\n",
    "        }\n",
    "    }\n",
    "}\n",
    "close(f)"
   ]
  },
  {
   "cell_type": "code",
   "execution_count": null,
   "metadata": {
    "collapsed": true
   },
   "outputs": [],
   "source": []
  },
  {
   "cell_type": "code",
   "execution_count": null,
   "metadata": {
    "collapsed": false
   },
   "outputs": [],
   "source": [
    "cp = function(L) {\n",
    "    L[[1]]\n",
    "}\n",
    "\n",
    "list()\n",
    "L3 = list( c('a','b','c'), 1:3, c('x','y','z'))"
   ]
  },
  {
   "cell_type": "code",
   "execution_count": null,
   "metadata": {
    "collapsed": false
   },
   "outputs": [],
   "source": []
  },
  {
   "cell_type": "code",
   "execution_count": null,
   "metadata": {
    "collapsed": false
   },
   "outputs": [],
   "source": [
    "NULL"
   ]
  },
  {
   "cell_type": "code",
   "execution_count": null,
   "metadata": {
    "collapsed": false
   },
   "outputs": [],
   "source": [
    "length(list())"
   ]
  },
  {
   "cell_type": "code",
   "execution_count": null,
   "metadata": {
    "collapsed": false
   },
   "outputs": [],
   "source": [
    "list()==list()\n"
   ]
  },
  {
   "cell_type": "code",
   "execution_count": null,
   "metadata": {
    "collapsed": true
   },
   "outputs": [],
   "source": [
    "D\n"
   ]
  },
  {
   "cell_type": "code",
   "execution_count": null,
   "metadata": {
    "collapsed": false
   },
   "outputs": [],
   "source": [
    "getwd()\n"
   ]
  },
  {
   "cell_type": "code",
   "execution_count": null,
   "metadata": {
    "collapsed": false
   },
   "outputs": [],
   "source": [
    "library(\"sas7bdat\") \n",
    "setwd('../OWH/')\n",
    "\n",
    "sadc.2015.national.df = read.sas7bdat(\"sadc_2015_national.sas7bdat\")\n",
    "print(\"ok\")\n",
    "\n",
    "save(\"sadc.2015.national.df\", file=\"sadc_2015_national.rda\")\n",
    "print(\"done\")"
   ]
  },
  {
   "cell_type": "code",
   "execution_count": 6,
   "metadata": {
    "collapsed": false
   },
   "outputs": [],
   "source": [
    "library(\"sas7bdat\") \n",
    "setwd('../OWH/')\n",
    "load('sadc_2015_national.rda')"
   ]
  },
  {
   "cell_type": "code",
   "execution_count": 8,
   "metadata": {
    "collapsed": false
   },
   "outputs": [],
   "source": [
    "load('sadc_2015_state_a_m.rda')"
   ]
  },
  {
   "cell_type": "code",
   "execution_count": 10,
   "metadata": {
    "collapsed": false
   },
   "outputs": [],
   "source": [
    "load('sadc_2015_state_n_z.rda')"
   ]
  },
  {
   "cell_type": "code",
   "execution_count": 14,
   "metadata": {
    "collapsed": false
   },
   "outputs": [
    {
     "data": {
      "text/html": [
       "<ol class=list-inline>\n",
       "\t<li>188898</li>\n",
       "\t<li>287</li>\n",
       "</ol>\n"
      ],
      "text/latex": [
       "\\begin{enumerate*}\n",
       "\\item 188898\n",
       "\\item 287\n",
       "\\end{enumerate*}\n"
      ],
      "text/markdown": [
       "1. 188898\n",
       "2. 287\n",
       "\n",
       "\n"
      ],
      "text/plain": [
       "[1] 188898    287"
      ]
     },
     "metadata": {},
     "output_type": "display_data"
    }
   ],
   "source": [
    "load('sadc_2015_national.rda')\n",
    "dim(sadc.2015.national.df)"
   ]
  },
  {
   "cell_type": "code",
   "execution_count": 27,
   "metadata": {
    "collapsed": false
   },
   "outputs": [
    {
     "data": {
      "text/html": [
       "<ol class=list-inline>\n",
       "\t<li>511110</li>\n",
       "\t<li>287</li>\n",
       "</ol>\n"
      ],
      "text/latex": [
       "\\begin{enumerate*}\n",
       "\\item 511110\n",
       "\\item 287\n",
       "\\end{enumerate*}\n"
      ],
      "text/markdown": [
       "1. 511110\n",
       "2. 287\n",
       "\n",
       "\n"
      ],
      "text/plain": [
       "[1] 511110    287"
      ]
     },
     "metadata": {},
     "output_type": "display_data"
    }
   ],
   "source": [
    "load('sadc_2015_state_a_m.rda')\n",
    "dim(sadc.2015.state.a.m.df)"
   ]
  },
  {
   "cell_type": "code",
   "execution_count": 17,
   "metadata": {
    "collapsed": false
   },
   "outputs": [
    {
     "data": {
      "text/html": [
       "<ol class=list-inline>\n",
       "\t<li>431705</li>\n",
       "\t<li>287</li>\n",
       "</ol>\n"
      ],
      "text/latex": [
       "\\begin{enumerate*}\n",
       "\\item 431705\n",
       "\\item 287\n",
       "\\end{enumerate*}\n"
      ],
      "text/markdown": [
       "1. 431705\n",
       "2. 287\n",
       "\n",
       "\n"
      ],
      "text/plain": [
       "[1] 431705    287"
      ]
     },
     "metadata": {},
     "output_type": "display_data"
    }
   ],
   "source": [
    "load('sadc_2015_state_n_z.rda')\n",
    "dim(sadc.2015.state.n.z.df)"
   ]
  },
  {
   "cell_type": "code",
   "execution_count": 23,
   "metadata": {
    "collapsed": false
   },
   "outputs": [
    {
     "data": {
      "text/html": [
       "<ol class=list-inline>\n",
       "\t<li>310476</li>\n",
       "\t<li>287</li>\n",
       "</ol>\n"
      ],
      "text/latex": [
       "\\begin{enumerate*}\n",
       "\\item 310476\n",
       "\\item 287\n",
       "\\end{enumerate*}\n"
      ],
      "text/markdown": [
       "1. 310476\n",
       "2. 287\n",
       "\n",
       "\n"
      ],
      "text/plain": [
       "[1] 310476    287"
      ]
     },
     "metadata": {},
     "output_type": "display_data"
    }
   ],
   "source": [
    "load('sadc_2015_district.rda')\n",
    "dim(sadc.2015.district.df)"
   ]
  },
  {
   "cell_type": "code",
   "execution_count": 24,
   "metadata": {
    "collapsed": true
   },
   "outputs": [],
   "source": [
    "?memset"
   ]
  },
  {
   "cell_type": "code",
   "execution_count": 26,
   "metadata": {
    "collapsed": false
   },
   "outputs": [
    {
     "data": {
      "text/plain": [
       "936978464 bytes"
      ]
     },
     "metadata": {},
     "output_type": "display_data"
    }
   ],
   "source": [
    "object.size(sadc.2015.state.a.m.df)"
   ]
  },
  {
   "cell_type": "code",
   "execution_count": null,
   "metadata": {
    "collapsed": true
   },
   "outputs": [],
   "source": []
  }
 ],
 "metadata": {
  "kernelspec": {
   "display_name": "R",
   "language": "R",
   "name": "ir"
  },
  "language_info": {
   "codemirror_mode": "r",
   "file_extension": ".r",
   "mimetype": "text/x-r-source",
   "name": "R",
   "pygments_lexer": "r",
   "version": "3.3.1"
  }
 },
 "nbformat": 4,
 "nbformat_minor": 0
}
