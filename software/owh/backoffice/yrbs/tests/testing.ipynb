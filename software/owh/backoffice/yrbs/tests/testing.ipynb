{
 "cells": [
  {
   "cell_type": "markdown",
   "metadata": {},
   "source": [
    "# Testing Notebook for YRBSS R code\n",
    "\n",
    "When you run this notebook, you need to adjust file paths to fit your setup.\n",
    "\n",
    "First, load the source code."
   ]
  },
  {
   "cell_type": "code",
   "execution_count": 1,
   "metadata": {
    "collapsed": false
   },
   "outputs": [
    {
     "name": "stderr",
     "output_type": "stream",
     "text": [
      "Warning message:\n",
      "\"package 'survey' was built under R version 3.3.2\"Loading required package: grid\n",
      "Loading required package: Matrix\n",
      "Loading required package: survival\n",
      "\n",
      "Attaching package: 'survey'\n",
      "\n",
      "The following object is masked from 'package:graphics':\n",
      "\n",
      "    dotchart\n",
      "\n"
     ]
    },
    {
     "data": {
      "text/html": [
       "'OK'"
      ],
      "text/latex": [
       "'OK'"
      ],
      "text/markdown": [
       "'OK'"
      ],
      "text/plain": [
       "[1] \"OK\""
      ]
     },
     "metadata": {},
     "output_type": "display_data"
    }
   ],
   "source": [
    "source('c:/Users/Rex/Desktop/yrbs/R/YRBSS.R')\n",
    "\"OK\""
   ]
  },
  {
   "cell_type": "markdown",
   "metadata": {},
   "source": [
    "Now do some smoke-testing.\n",
    "\n",
    "We load the national data and perform various operations.\n",
    "\n",
    "First we test the function that loads the data file and extract the right state and year from the data."
   ]
  },
  {
   "cell_type": "code",
   "execution_count": 2,
   "metadata": {
    "collapsed": false
   },
   "outputs": [
    {
     "data": {
      "text/html": [
       "<table>\n",
       "<thead><tr><th></th><th scope=col>used</th><th scope=col>(Mb)</th><th scope=col>gc trigger</th><th scope=col>(Mb)</th><th scope=col>max used</th><th scope=col>(Mb)</th></tr></thead>\n",
       "<tbody>\n",
       "\t<tr><th scope=row>Ncells</th><td> 1222691</td><td> 65.3   </td><td> 2164898</td><td>115.7   </td><td> 1443371</td><td> 77.1   </td></tr>\n",
       "\t<tr><th scope=row>Vcells</th><td>45038138</td><td>343.7   </td><td>59250972</td><td>452.1   </td><td>45069917</td><td>343.9   </td></tr>\n",
       "</tbody>\n",
       "</table>\n"
      ],
      "text/latex": [
       "\\begin{tabular}{r|llllll}\n",
       "  & used & (Mb) & gc trigger & (Mb) & max used & (Mb)\\\\\n",
       "\\hline\n",
       "\tNcells &  1222691 &  65.3    &  2164898 & 115.7    &  1443371 &  77.1   \\\\\n",
       "\tVcells & 45038138 & 343.7    & 59250972 & 452.1    & 45069917 & 343.9   \\\\\n",
       "\\end{tabular}\n"
      ],
      "text/markdown": [
       "1. 1222691\n",
       "2. 45038138\n",
       "3. 65.3\n",
       "4. 343.7\n",
       "5. 2164898\n",
       "6. 59250972\n",
       "7. 115.7\n",
       "8. 452.1\n",
       "9. 1443371\n",
       "10. 45069917\n",
       "11. 77.1\n",
       "12. 343.9\n",
       "\n",
       "\n"
      ],
      "text/plain": [
       "       used     (Mb)  gc trigger (Mb)  max used (Mb) \n",
       "Ncells  1222691  65.3  2164898   115.7  1443371  77.1\n",
       "Vcells 45038138 343.7 59250972   452.1 45069917 343.9"
      ]
     },
     "metadata": {},
     "output_type": "display_data"
    },
    {
     "name": "stdout",
     "output_type": "stream",
     "text": [
      "[1] 15624\n",
      "[1] 15425\n",
      "[1] 16410\n",
      "[1] 4486\n",
      "[1] 4148\n",
      "[1] 1852\n",
      "[1] 6178\n",
      "[1] 2278\n",
      "[1] 5702\n",
      "[1] \"ERROR: No data for state MT and year 1909!\"\n"
     ]
    },
    {
     "data": {
      "text/html": [
       "<table>\n",
       "<thead><tr><th></th><th scope=col>used</th><th scope=col>(Mb)</th><th scope=col>gc trigger</th><th scope=col>(Mb)</th><th scope=col>max used</th><th scope=col>(Mb)</th></tr></thead>\n",
       "<tbody>\n",
       "\t<tr><th scope=row>Ncells</th><td> 1227224 </td><td> 65.6    </td><td>  2164898</td><td> 115.7   </td><td>  1443371</td><td>  77.1   </td></tr>\n",
       "\t<tr><th scope=row>Vcells</th><td>45043266 </td><td>343.7    </td><td>172430276</td><td>1315.6   </td><td>215522433</td><td>1644.4   </td></tr>\n",
       "</tbody>\n",
       "</table>\n"
      ],
      "text/latex": [
       "\\begin{tabular}{r|llllll}\n",
       "  & used & (Mb) & gc trigger & (Mb) & max used & (Mb)\\\\\n",
       "\\hline\n",
       "\tNcells &  1227224  &  65.6     &   2164898 &  115.7    &   1443371 &   77.1   \\\\\n",
       "\tVcells & 45043266  & 343.7     & 172430276 & 1315.6    & 215522433 & 1644.4   \\\\\n",
       "\\end{tabular}\n"
      ],
      "text/markdown": [
       "1. 1227224\n",
       "2. 45043266\n",
       "3. 65.6\n",
       "4. 343.7\n",
       "5. 2164898\n",
       "6. 172430276\n",
       "7. 115.7\n",
       "8. 1315.6\n",
       "9. 1443371\n",
       "10. 215522433\n",
       "11. 77.1\n",
       "12. 1644.4\n",
       "\n",
       "\n"
      ],
      "text/plain": [
       "       used     (Mb)  gc trigger (Mb)   max used  (Mb)  \n",
       "Ncells  1227224  65.6   2164898   115.7   1443371   77.1\n",
       "Vcells 45043266 343.7 172430276  1315.6 215522433 1644.4"
      ]
     },
     "metadata": {},
     "output_type": "display_data"
    }
   ],
   "source": [
    "rda.path = \"C:/Users/Rex/Desktop/OWH/owh-ds/software/owh/backoffice/yrbs/rda/\"\n",
    "rda.path = \"C:/Users/Rex/Desktop/yrbs/rda/\"\n",
    "load(paste0(rda.path,\"sadc_2015_national.rda\"))\n",
    "kolumns = colnames(sadc.2015.national.df)\n",
    "#cat(kolumns)\n",
    "odd = c(1,3,5,7,9)\n",
    "gc()\n",
    "\n",
    "### These just check that we can load the appropriate state and year, and return\n",
    "### an error message if not.\n",
    "dim.l.y = function(state,year) nrow(get.df.for.state.and.year(state,year,rda.path))    \n",
    "print(dim.l.y('XX', 2015))\n",
    "print(dim.l.y('XX', 2011))\n",
    "print(dim.l.y('XX', 2009))\n",
    "print(dim.l.y('MT', 2015))\n",
    "print(dim.l.y('MT', 2011))\n",
    "print(dim.l.y('MT', 2009))\n",
    "print(dim.l.y('NC', 2015))\n",
    "print(dim.l.y('NC', 2011))\n",
    "print(dim.l.y('NC', 2009))\n",
    "print(get.df.for.state.and.year('MT', 1909, rda.path))\n",
    "gc()\n",
    "    \n",
    "      "
   ]
  },
  {
   "cell_type": "markdown",
   "metadata": {},
   "source": [
    "Next we smoke-test yrbssCalculate.  We focus on Q8 (Bicycle Helmet Use) and Q9 (Drinking Driver).  We just make a number of calls to be sure the function returns a matrix of the right shape and numbers of the right scale (percentages).  We have a couple of cases to check basic error handling."
   ]
  },
  {
   "cell_type": "code",
   "execution_count": 3,
   "metadata": {
    "collapsed": false,
    "scrolled": true
   },
   "outputs": [
    {
     "name": "stdout",
     "output_type": "stream",
     "text": [
      "\n",
      "\n",
      " sex,grade,q8.count,q8.pct,q8.se,q8.ci.lo,q8.ci.hi,q9.count,q9.pct,q9.se,q9.ci.lo,q9.ci.hi\n",
      "1,1,1327,58.26,2.72,52.69,63.63,1327,6.55,1.04,4.73,9.01\n",
      "2,1,1281,74.06,2,69.82,77.89,1281,7.87,1.08,5.94,10.35\n",
      "-1,1,2614,66.46,2.13,62.02,70.62,2614,7.25,0.82,5.75,9.1\n",
      "1,2,1371,56.23,3.33,49.44,62.8,1371,4.81,0.97,3.2,7.18\n",
      "2,2,1340,69.75,2.02,65.52,73.67,1340,8.55,1.44,6.05,11.95\n",
      "-1,2,2725,62.72,1.91,58.79,66.49,2725,6.58,1.07,4.72,9.11\n",
      "1,3,1454,48.89,3.51,41.87,55.95,1454,4.58,0.8,3.22,6.49\n",
      "2,3,1427,66.36,2.43,61.28,71.08,1427,7.99,1.66,5.22,12.05\n",
      "-1,3,2890,57.86,2.32,53.11,62.46,2890,6.52,1.14,4.57,9.23\n",
      "1,4,1368,50.34,2.9,44.49,56.17,1368,5.32,0.96,3.69,7.63\n",
      "2,4,1359,59.49,2.41,54.56,64.24,1359,6.58,1.35,4.32,9.88\n",
      "-1,4,2730,54.91,2.05,50.74,59.01,2730,5.95,0.97,4.26,8.24\n",
      "1,-1,5539,53.55,2.65,48.17,58.85,5539,5.39,0.7,4.14,7\n",
      "2,-1,5435,67.54,1.33,64.8,70.18,5435,7.92,0.95,6.21,10.06\n",
      "-1,-1,11018,60.59,1.69,57.12,63.95,11018,6.71,0.75,5.34,8.4\n",
      "\n",
      "\n",
      " sex,grade,q8.count,q8.pct,q8.se,q8.ci.lo,q8.ci.hi,q9.count,q9.pct,q9.se,q9.ci.lo,q9.ci.hi\n",
      "1,1,393,68.05,2.95,61.94,73.6,393,9.12,1.23,6.94,11.88\n",
      "2,1,443,82.47,1.83,78.53,85.81,443,12.73,1.87,9.46,16.91\n",
      "-1,1,837,75.85,1.88,71.92,79.39,837,11.06,1.14,9,13.54\n",
      "1,2,479,61.22,2.29,56.6,65.66,479,10.25,1.28,7.97,13.09\n",
      "2,2,402,70.69,2.27,65.98,74.99,402,18.08,2.29,13.98,23.07\n",
      "-1,2,885,65.9,1.85,62.14,69.47,885,14.32,1.16,12.16,16.79\n",
      "1,3,448,55.86,2.31,51.25,60.38,448,10.07,1.53,7.41,13.54\n",
      "2,3,398,62.57,2.99,56.48,68.28,398,16.36,2.07,12.65,20.89\n",
      "-1,3,846,59.2,1.96,55.26,63.03,846,13.21,1.54,10.43,16.58\n",
      "1,4,339,53.46,3.47,46.55,60.24,339,8.66,1.71,5.82,12.7\n",
      "2,4,363,62.47,2.4,57.59,67.11,363,21.58,2.45,17.12,26.82\n",
      "-1,4,702,58.06,2.16,53.72,62.28,702,15.26,1.76,12.08,19.1\n",
      "1,-1,1666,59.38,1.97,55.41,63.22,1666,9.64,0.69,8.36,11.1\n",
      "2,-1,1628,69.8,1.23,67.29,72.19,1628,17.22,1.26,14.86,19.87\n",
      "-1,-1,3305,64.71,1.34,62.02,67.32,3305,13.59,0.86,11.97,15.39\n",
      "\n",
      "\n",
      " ERROR: No data for state MM!\n",
      "\n",
      " sex,grade,q8.count,q8.pct,q8.se,q8.ci.lo,q8.ci.hi,q9.count,q9.pct,q9.se,q9.ci.lo,q9.ci.hi\n",
      "1,1,1210,45.2,3.06,39.13,51.41,1210,2.56,0.69,1.48,4.4\n",
      "2,1,1226,54.76,2.9,48.85,60.53,1226,4.35,0.69,3.15,5.98\n",
      "-1,1,2448,50.44,2.86,44.68,56.19,2448,3.58,0.51,2.68,4.76\n",
      "1,2,1228,45.71,3.06,39.63,51.91,1228,2,0.62,1.07,3.71\n",
      "2,2,1244,54.42,2.62,49.1,59.64,1244,4.73,1.06,3,7.4\n",
      "-1,2,2479,50.06,2.3,45.43,54.69,2479,3.36,0.7,2.2,5.11\n",
      "1,3,1248,39.88,4.31,31.57,48.82,1248,1.4,0.49,0.69,2.82\n",
      "2,3,1300,52.91,2.67,47.51,58.25,1300,3.65,0.96,2.14,6.15\n",
      "-1,3,2559,46.32,2.84,40.65,52.09,2559,2.74,0.68,1.65,4.51\n",
      "1,4,1253,43.37,3.1,37.25,49.7,1253,1.59,0.48,0.86,2.91\n",
      "2,4,1254,50.87,1.91,47.02,54.71,1254,3.05,0.65,1.98,4.68\n",
      "-1,4,2514,47.2,2.09,43.01,51.42,2514,2.34,0.43,1.61,3.4\n",
      "1,-1,4959,43.58,2.96,37.72,49.62,4959,1.98,0.37,1.35,2.88\n",
      "2,-1,5056,53.24,2.02,49.15,57.29,5056,4.07,0.45,3.26,5.08\n",
      "-1,-1,10091,48.41,2.22,43.95,52.89,10091,3.16,0.36,2.5,3.99\n",
      "\n",
      "\n",
      " sex,grade,q8.count,q8.pct,q8.se,q8.ci.lo,q8.ci.hi,q9.count,q9.pct,q9.se,q9.ci.lo,q9.ci.hi\n",
      "1,1,873,57.01,3.28,50.29,63.48,873,3.09,0.93,1.67,5.64\n",
      "2,1,877,72.07,2.52,66.72,76.86,877,4.59,1.12,2.79,7.45\n",
      "-1,1,1756,65.06,2.54,59.76,70.01,1756,3.93,0.73,2.7,5.69\n",
      "1,2,916,56.23,3.87,48.32,63.84,916,1.84,0.7,0.84,3.95\n",
      "2,2,916,69,2.28,64.23,73.41,916,5.99,1.39,3.73,9.49\n",
      "-1,2,1838,62.39,2.24,57.78,66.79,1838,3.85,0.95,2.33,6.29\n",
      "1,3,1006,48.01,3.61,40.82,55.29,1006,1.79,0.64,0.87,3.67\n",
      "2,3,1024,64.04,2.53,58.8,68.97,1024,3.73,1.14,2,6.86\n",
      "-1,3,2037,56.29,2.38,51.44,61.02,2037,3.06,0.86,1.73,5.36\n",
      "1,4,1005,49.58,3.52,42.52,56.64,1005,1.75,0.51,0.97,3.14\n",
      "2,4,1020,59.14,2.1,54.85,63.31,1020,2.9,0.68,1.8,4.65\n",
      "-1,4,2027,54.56,2.19,50.12,58.93,2027,2.35,0.45,1.59,3.44\n",
      "1,-1,3814,52.75,3.1,46.48,58.93,3814,2.19,0.45,1.44,3.31\n",
      "2,-1,3857,65.97,1.42,63.06,68.77,3857,4.4,0.65,3.26,5.92\n",
      "-1,-1,7702,59.52,1.91,55.61,63.31,7702,3.41,0.47,2.58,4.5\n",
      "\n",
      "\n",
      " ERROR: Bad column names: q1 q2 q5\n",
      "\n",
      "\n",
      " ERROR: Bad column names: queue8\n",
      "\n",
      "\n",
      " sex,grade,q8.count,q8.pct,q8.se,q8.ci.lo,q8.ci.hi,q9.count,q9.pct,q9.se,q9.ci.lo,q9.ci.hi\n",
      "1,1,393,68.05,2.95,61.94,73.6,393,9.12,1.23,6.94,11.88\n",
      "2,1,443,82.47,1.83,78.53,85.81,443,12.73,1.87,9.46,16.91\n",
      "-1,1,837,75.85,1.88,71.92,79.39,837,11.06,1.14,9,13.54\n",
      "1,2,479,61.22,2.29,56.6,65.66,479,10.25,1.28,7.97,13.09\n",
      "2,2,402,70.69,2.27,65.98,74.99,402,18.08,2.29,13.98,23.07\n",
      "-1,2,885,65.9,1.85,62.14,69.47,885,14.32,1.16,12.16,16.79\n",
      "1,3,448,55.86,2.31,51.25,60.38,448,10.07,1.53,7.41,13.54\n",
      "2,3,398,62.57,2.99,56.48,68.28,398,16.36,2.07,12.65,20.89\n",
      "-1,3,846,59.2,1.96,55.26,63.03,846,13.21,1.54,10.43,16.58\n",
      "1,4,339,53.46,3.47,46.55,60.24,339,8.66,1.71,5.82,12.7\n",
      "2,4,363,62.47,2.4,57.59,67.11,363,21.58,2.45,17.12,26.82\n",
      "-1,4,702,58.06,2.16,53.72,62.28,702,15.26,1.76,12.08,19.1\n",
      "1,-1,1666,59.38,1.97,55.41,63.22,1666,9.64,0.69,8.36,11.1\n",
      "2,-1,1628,69.8,1.23,67.29,72.19,1628,17.22,1.26,14.86,19.87\n",
      "-1,-1,3305,64.71,1.34,62.02,67.32,3305,13.59,0.86,11.97,15.39\n",
      "\n",
      "\n",
      " sex,grade,q8.count,q8.pct,q8.se,q8.ci.lo,q8.ci.hi,q9.count,q9.pct,q9.se,q9.ci.lo,q9.ci.hi\n",
      "1,1,342,52.36,2.89,46.63,58.04,342,1.42,0.63,0.59,3.37\n",
      "2,1,366,66.8,2.61,61.43,71.77,366,5.5,1.08,3.71,8.07\n",
      "-1,1,709,60.11,1.99,56.12,63.98,709,3.6,0.6,2.58,4.99\n",
      "1,2,359,50.03,2.58,44.93,55.14,359,1.12,0.51,0.45,2.73\n",
      "2,2,335,56.46,3.15,50.15,62.57,335,9.22,1.84,6.17,13.57\n",
      "-1,2,698,53.41,2.18,49.07,57.7,698,5.62,0.87,4.13,7.62\n",
      "1,3,313,47.62,2,43.68,51.58,313,3.3,1.08,1.71,6.26\n",
      "2,3,291,50.36,3.26,43.92,56.79,291,8.5,1.5,5.96,11.99\n",
      "-1,3,604,49.02,1.96,45.14,52.92,604,5.96,0.77,4.61,7.68\n",
      "1,4,259,49.18,3.31,42.67,55.72,259,2.14,0.75,1.07,4.25\n",
      "2,4,257,56.46,3.17,50.1,62.61,257,7.44,1.33,5.19,10.55\n",
      "-1,4,516,52.75,2.16,48.45,57.01,516,4.74,0.84,3.32,6.72\n",
      "1,-1,1279,49.7,1.47,46.78,52.61,1279,2.13,0.36,1.52,2.97\n",
      "2,-1,1267,58.06,1.33,55.39,60.68,1267,7.75,0.81,6.3,9.51\n",
      "-1,-1,2558,54,0.94,52.13,55.85,2558,5.13,0.46,4.3,6.12\n",
      "\n",
      "\n",
      " ERROR: df contains data for states other than MS"
     ]
    }
   ],
   "source": [
    "### These are just a smoke test of yrbssCalculate.  Arguments that would normally be passed are\n",
    "### allowed to default.\n",
    "cat('\\n\\n', yrbssCalculate(filter=list(q8=1:2), rda.path=rda.path))\n",
    "cat('\\n\\n', yrbssCalculate(filter=list(q8=1:2), state='MT', year = 2011, rda.path=rda.path) )\n",
    "cat('\\n\\n', yrbssCalculate(filter=list(q8=1:2), state='MM', year = 2011, rda.path=rda.path) )\n",
    "cat('\\n\\n', yrbssCalculate(filter=list(q9=c(1,3,5)), rda.path=rda.path) )\n",
    "cat('\\n\\n', yrbssCalculate(filter=list(q8=1:2, q9=c(1,3,5)), rda.path=rda.path) )\n",
    "cat('\\n\\n', yrbssCalculate(filter=list(q1=c(4, 5, 6), # age 15-18\n",
    "                            q2=c(1), # female\n",
    "                            q5=c(\"C\",\"E\")), rda.path=rda.path)) # bogus\n",
    "cat('\\n\\n', yrbssCalculate(filter=list(queue8=1:2), rda.path=rda.path) )  \n",
    "    \n",
    "### These examples illustrate caching.  We cache a dataframe for Montana/2011\n",
    "### and use it twice.  Third time we get an error.\n",
    "df.MT.2011 = get.df.for.state.and.year('MT',2011,rda.path)\n",
    "cat('\\n\\n', yrbssCalculate(filter=list(q8=1:2), state='MT', year = 2011, df=df.MT.2011) )\n",
    "cat('\\n\\n', yrbssCalculate(filter=list(q9=odd), state='MT', year = 2011, df=df.MT.2011) )\n",
    "cat('\\n\\n', yrbssCalculate(filter=list(q8=1:2), state='MS', year = 2013, df=df.MT.2011) )"
   ]
  },
  {
   "cell_type": "markdown",
   "metadata": {},
   "source": [
    "Now we do a more systematic test of the group-by functionality.  We set up a contrived matrix, group by (nearly) all possible pairs of columns, and look at all remaining columns as response variables."
   ]
  },
  {
   "cell_type": "code",
   "execution_count": 4,
   "metadata": {
    "collapsed": false
   },
   "outputs": [
    {
     "data": {
      "text/html": [
       "<table>\n",
       "<thead><tr><th scope=col>X1</th><th scope=col>X2</th><th scope=col>X3</th><th scope=col>X4</th><th scope=col>X5</th><th scope=col>X6</th><th scope=col>X7</th><th scope=col>X8</th><th scope=col>X9</th><th scope=col>X10</th><th scope=col>...</th><th scope=col>X14</th><th scope=col>X15</th><th scope=col>X16</th><th scope=col>X17</th><th scope=col>X18</th><th scope=col>X19</th><th scope=col>X20</th><th scope=col>PSU</th><th scope=col>stratum</th><th scope=col>weight</th></tr></thead>\n",
       "<tbody>\n",
       "\t<tr><td> 1 </td><td> 1 </td><td> 1 </td><td> 1 </td><td> 1 </td><td> 1 </td><td> 1 </td><td> 1 </td><td> 1 </td><td> 1 </td><td>...</td><td> 1 </td><td> 1 </td><td> 1 </td><td> 1 </td><td> 1 </td><td> 1 </td><td> 1 </td><td> 1 </td><td>1  </td><td>1  </td></tr>\n",
       "\t<tr><td> 0 </td><td> 1 </td><td> 1 </td><td> 1 </td><td> 1 </td><td> 1 </td><td> 1 </td><td> 1 </td><td> 1 </td><td> 1 </td><td>...</td><td> 1 </td><td> 1 </td><td> 1 </td><td> 1 </td><td> 1 </td><td> 1 </td><td> 1 </td><td> 2 </td><td>1  </td><td>1  </td></tr>\n",
       "\t<tr><td> 0 </td><td> 0 </td><td> 1 </td><td> 1 </td><td> 1 </td><td> 1 </td><td> 1 </td><td> 1 </td><td> 1 </td><td> 1 </td><td>...</td><td> 1 </td><td> 1 </td><td> 1 </td><td> 1 </td><td> 1 </td><td> 1 </td><td> 1 </td><td> 3 </td><td>1  </td><td>1  </td></tr>\n",
       "\t<tr><td> 0 </td><td> 0 </td><td> 0 </td><td> 1 </td><td> 1 </td><td> 1 </td><td> 1 </td><td> 1 </td><td> 1 </td><td> 1 </td><td>...</td><td> 1 </td><td> 1 </td><td> 1 </td><td> 1 </td><td> 1 </td><td> 1 </td><td> 1 </td><td> 4 </td><td>1  </td><td>1  </td></tr>\n",
       "\t<tr><td> 0 </td><td> 0 </td><td> 0 </td><td> 0 </td><td> 1 </td><td> 1 </td><td> 1 </td><td> 1 </td><td> 1 </td><td> 1 </td><td>...</td><td> 1 </td><td> 1 </td><td> 1 </td><td> 1 </td><td> 1 </td><td> 1 </td><td> 1 </td><td> 5 </td><td>1  </td><td>1  </td></tr>\n",
       "\t<tr><td> 0 </td><td> 0 </td><td> 0 </td><td> 0 </td><td> 0 </td><td> 1 </td><td> 1 </td><td> 1 </td><td> 1 </td><td> 1 </td><td>...</td><td> 1 </td><td> 1 </td><td> 1 </td><td> 1 </td><td> 1 </td><td> 1 </td><td> 1 </td><td> 6 </td><td>1  </td><td>1  </td></tr>\n",
       "\t<tr><td> 0 </td><td> 0 </td><td> 0 </td><td> 0 </td><td> 0 </td><td> 0 </td><td> 1 </td><td> 1 </td><td> 1 </td><td> 1 </td><td>...</td><td> 1 </td><td> 1 </td><td> 1 </td><td> 1 </td><td> 1 </td><td> 1 </td><td> 1 </td><td> 7 </td><td>1  </td><td>1  </td></tr>\n",
       "\t<tr><td> 0 </td><td> 0 </td><td> 0 </td><td> 0 </td><td> 0 </td><td> 0 </td><td> 0 </td><td> 1 </td><td> 1 </td><td> 1 </td><td>...</td><td> 1 </td><td> 1 </td><td> 1 </td><td> 1 </td><td> 1 </td><td> 1 </td><td> 1 </td><td> 8 </td><td>1  </td><td>1  </td></tr>\n",
       "\t<tr><td> 0 </td><td> 0 </td><td> 0 </td><td> 0 </td><td> 0 </td><td> 0 </td><td> 0 </td><td> 0 </td><td> 1 </td><td> 1 </td><td>...</td><td> 1 </td><td> 1 </td><td> 1 </td><td> 1 </td><td> 1 </td><td> 1 </td><td> 1 </td><td> 9 </td><td>1  </td><td>1  </td></tr>\n",
       "\t<tr><td> 0 </td><td> 0 </td><td> 0 </td><td> 0 </td><td> 0 </td><td> 0 </td><td> 0 </td><td> 0 </td><td> 0 </td><td> 1 </td><td>...</td><td> 1 </td><td> 1 </td><td> 1 </td><td> 1 </td><td> 1 </td><td> 1 </td><td> 1 </td><td>10 </td><td>1  </td><td>1  </td></tr>\n",
       "\t<tr><td> 0 </td><td> 0 </td><td> 0 </td><td> 0 </td><td> 0 </td><td> 0 </td><td> 0 </td><td> 0 </td><td> 0 </td><td> 0 </td><td>...</td><td> 1 </td><td> 1 </td><td> 1 </td><td> 1 </td><td> 1 </td><td> 1 </td><td> 1 </td><td>11 </td><td>1  </td><td>1  </td></tr>\n",
       "\t<tr><td> 0 </td><td> 0 </td><td> 0 </td><td> 0 </td><td> 0 </td><td> 0 </td><td> 0 </td><td> 0 </td><td> 0 </td><td> 0 </td><td>...</td><td> 1 </td><td> 1 </td><td> 1 </td><td> 1 </td><td> 1 </td><td> 1 </td><td> 1 </td><td>12 </td><td>1  </td><td>1  </td></tr>\n",
       "\t<tr><td> 0 </td><td> 0 </td><td> 0 </td><td> 0 </td><td> 0 </td><td> 0 </td><td> 0 </td><td> 0 </td><td> 0 </td><td> 0 </td><td>...</td><td> 1 </td><td> 1 </td><td> 1 </td><td> 1 </td><td> 1 </td><td> 1 </td><td> 1 </td><td>13 </td><td>1  </td><td>1  </td></tr>\n",
       "\t<tr><td> 0 </td><td> 0 </td><td> 0 </td><td> 0 </td><td> 0 </td><td> 0 </td><td> 0 </td><td> 0 </td><td> 0 </td><td> 0 </td><td>...</td><td> 1 </td><td> 1 </td><td> 1 </td><td> 1 </td><td> 1 </td><td> 1 </td><td> 1 </td><td>14 </td><td>1  </td><td>1  </td></tr>\n",
       "\t<tr><td> 0 </td><td> 0 </td><td> 0 </td><td> 0 </td><td> 0 </td><td> 0 </td><td> 0 </td><td> 0 </td><td> 0 </td><td> 0 </td><td>...</td><td> 0 </td><td> 1 </td><td> 1 </td><td> 1 </td><td> 1 </td><td> 1 </td><td> 1 </td><td>15 </td><td>1  </td><td>1  </td></tr>\n",
       "\t<tr><td> 0 </td><td> 0 </td><td> 0 </td><td> 0 </td><td> 0 </td><td> 0 </td><td> 0 </td><td> 0 </td><td> 0 </td><td> 0 </td><td>...</td><td> 0 </td><td> 0 </td><td> 1 </td><td> 1 </td><td> 1 </td><td> 1 </td><td> 1 </td><td>16 </td><td>1  </td><td>1  </td></tr>\n",
       "\t<tr><td> 0 </td><td> 0 </td><td> 0 </td><td> 0 </td><td> 0 </td><td> 0 </td><td> 0 </td><td> 0 </td><td> 0 </td><td> 0 </td><td>...</td><td> 0 </td><td> 0 </td><td> 0 </td><td> 1 </td><td> 1 </td><td> 1 </td><td> 1 </td><td>17 </td><td>1  </td><td>1  </td></tr>\n",
       "\t<tr><td> 0 </td><td> 0 </td><td> 0 </td><td> 0 </td><td> 0 </td><td> 0 </td><td> 0 </td><td> 0 </td><td> 0 </td><td> 0 </td><td>...</td><td> 0 </td><td> 0 </td><td> 0 </td><td> 0 </td><td> 1 </td><td> 1 </td><td> 1 </td><td>18 </td><td>1  </td><td>1  </td></tr>\n",
       "\t<tr><td> 0 </td><td> 0 </td><td> 0 </td><td> 0 </td><td> 0 </td><td> 0 </td><td> 0 </td><td> 0 </td><td> 0 </td><td> 0 </td><td>...</td><td> 0 </td><td> 0 </td><td> 0 </td><td> 0 </td><td> 0 </td><td> 1 </td><td> 1 </td><td>19 </td><td>1  </td><td>1  </td></tr>\n",
       "\t<tr><td> 0 </td><td> 0 </td><td> 0 </td><td> 0 </td><td> 0 </td><td> 0 </td><td> 0 </td><td> 0 </td><td> 0 </td><td> 0 </td><td>...</td><td> 0 </td><td> 0 </td><td> 0 </td><td> 0 </td><td> 0 </td><td> 0 </td><td> 1 </td><td>20 </td><td>1  </td><td>1  </td></tr>\n",
       "\t<tr><td>NA </td><td>NA </td><td>NA </td><td>NA </td><td>NA </td><td>NA </td><td>NA </td><td>NA </td><td>NA </td><td>NA </td><td>...</td><td>NA </td><td>NA </td><td>NA </td><td>NA </td><td>NA </td><td>NA </td><td>NA </td><td>21 </td><td>1  </td><td>1  </td></tr>\n",
       "\t<tr><td>NA </td><td>NA </td><td>NA </td><td>NA </td><td>NA </td><td>NA </td><td>NA </td><td>NA </td><td>NA </td><td>NA </td><td>...</td><td>NA </td><td>NA </td><td>NA </td><td>NA </td><td>NA </td><td>NA </td><td>NA </td><td>22 </td><td>1  </td><td>1  </td></tr>\n",
       "\t<tr><td>NA </td><td>NA </td><td>NA </td><td>NA </td><td>NA </td><td>NA </td><td>NA </td><td>NA </td><td>NA </td><td>NA </td><td>...</td><td>NA </td><td>NA </td><td>NA </td><td>NA </td><td>NA </td><td>NA </td><td>NA </td><td>23 </td><td>1  </td><td>1  </td></tr>\n",
       "\t<tr><td>NA </td><td>NA </td><td>NA </td><td>NA </td><td>NA </td><td>NA </td><td>NA </td><td>NA </td><td>NA </td><td>NA </td><td>...</td><td>NA </td><td>NA </td><td>NA </td><td>NA </td><td>NA </td><td>NA </td><td>NA </td><td>24 </td><td>1  </td><td>1  </td></tr>\n",
       "\t<tr><td>NA </td><td>NA </td><td>NA </td><td>NA </td><td>NA </td><td>NA </td><td>NA </td><td>NA </td><td>NA </td><td>NA </td><td>...</td><td>NA </td><td>NA </td><td>NA </td><td>NA </td><td>NA </td><td>NA </td><td>NA </td><td>25 </td><td>1  </td><td>1  </td></tr>\n",
       "</tbody>\n",
       "</table>\n"
      ],
      "text/latex": [
       "\\begin{tabular}{r|lllllllllllllllllllllll}\n",
       " X1 & X2 & X3 & X4 & X5 & X6 & X7 & X8 & X9 & X10 & ... & X14 & X15 & X16 & X17 & X18 & X19 & X20 & PSU & stratum & weight\\\\\n",
       "\\hline\n",
       "\t  1  &  1  &  1  &  1  &  1  &  1  &  1  &  1  &  1  &  1  & ... &  1  &  1  &  1  &  1  &  1  &  1  &  1  &  1  & 1   & 1  \\\\\n",
       "\t  0  &  1  &  1  &  1  &  1  &  1  &  1  &  1  &  1  &  1  & ... &  1  &  1  &  1  &  1  &  1  &  1  &  1  &  2  & 1   & 1  \\\\\n",
       "\t  0  &  0  &  1  &  1  &  1  &  1  &  1  &  1  &  1  &  1  & ... &  1  &  1  &  1  &  1  &  1  &  1  &  1  &  3  & 1   & 1  \\\\\n",
       "\t  0  &  0  &  0  &  1  &  1  &  1  &  1  &  1  &  1  &  1  & ... &  1  &  1  &  1  &  1  &  1  &  1  &  1  &  4  & 1   & 1  \\\\\n",
       "\t  0  &  0  &  0  &  0  &  1  &  1  &  1  &  1  &  1  &  1  & ... &  1  &  1  &  1  &  1  &  1  &  1  &  1  &  5  & 1   & 1  \\\\\n",
       "\t  0  &  0  &  0  &  0  &  0  &  1  &  1  &  1  &  1  &  1  & ... &  1  &  1  &  1  &  1  &  1  &  1  &  1  &  6  & 1   & 1  \\\\\n",
       "\t  0  &  0  &  0  &  0  &  0  &  0  &  1  &  1  &  1  &  1  & ... &  1  &  1  &  1  &  1  &  1  &  1  &  1  &  7  & 1   & 1  \\\\\n",
       "\t  0  &  0  &  0  &  0  &  0  &  0  &  0  &  1  &  1  &  1  & ... &  1  &  1  &  1  &  1  &  1  &  1  &  1  &  8  & 1   & 1  \\\\\n",
       "\t  0  &  0  &  0  &  0  &  0  &  0  &  0  &  0  &  1  &  1  & ... &  1  &  1  &  1  &  1  &  1  &  1  &  1  &  9  & 1   & 1  \\\\\n",
       "\t  0  &  0  &  0  &  0  &  0  &  0  &  0  &  0  &  0  &  1  & ... &  1  &  1  &  1  &  1  &  1  &  1  &  1  & 10  & 1   & 1  \\\\\n",
       "\t  0  &  0  &  0  &  0  &  0  &  0  &  0  &  0  &  0  &  0  & ... &  1  &  1  &  1  &  1  &  1  &  1  &  1  & 11  & 1   & 1  \\\\\n",
       "\t  0  &  0  &  0  &  0  &  0  &  0  &  0  &  0  &  0  &  0  & ... &  1  &  1  &  1  &  1  &  1  &  1  &  1  & 12  & 1   & 1  \\\\\n",
       "\t  0  &  0  &  0  &  0  &  0  &  0  &  0  &  0  &  0  &  0  & ... &  1  &  1  &  1  &  1  &  1  &  1  &  1  & 13  & 1   & 1  \\\\\n",
       "\t  0  &  0  &  0  &  0  &  0  &  0  &  0  &  0  &  0  &  0  & ... &  1  &  1  &  1  &  1  &  1  &  1  &  1  & 14  & 1   & 1  \\\\\n",
       "\t  0  &  0  &  0  &  0  &  0  &  0  &  0  &  0  &  0  &  0  & ... &  0  &  1  &  1  &  1  &  1  &  1  &  1  & 15  & 1   & 1  \\\\\n",
       "\t  0  &  0  &  0  &  0  &  0  &  0  &  0  &  0  &  0  &  0  & ... &  0  &  0  &  1  &  1  &  1  &  1  &  1  & 16  & 1   & 1  \\\\\n",
       "\t  0  &  0  &  0  &  0  &  0  &  0  &  0  &  0  &  0  &  0  & ... &  0  &  0  &  0  &  1  &  1  &  1  &  1  & 17  & 1   & 1  \\\\\n",
       "\t  0  &  0  &  0  &  0  &  0  &  0  &  0  &  0  &  0  &  0  & ... &  0  &  0  &  0  &  0  &  1  &  1  &  1  & 18  & 1   & 1  \\\\\n",
       "\t  0  &  0  &  0  &  0  &  0  &  0  &  0  &  0  &  0  &  0  & ... &  0  &  0  &  0  &  0  &  0  &  1  &  1  & 19  & 1   & 1  \\\\\n",
       "\t  0  &  0  &  0  &  0  &  0  &  0  &  0  &  0  &  0  &  0  & ... &  0  &  0  &  0  &  0  &  0  &  0  &  1  & 20  & 1   & 1  \\\\\n",
       "\t NA  & NA  & NA  & NA  & NA  & NA  & NA  & NA  & NA  & NA  & ... & NA  & NA  & NA  & NA  & NA  & NA  & NA  & 21  & 1   & 1  \\\\\n",
       "\t NA  & NA  & NA  & NA  & NA  & NA  & NA  & NA  & NA  & NA  & ... & NA  & NA  & NA  & NA  & NA  & NA  & NA  & 22  & 1   & 1  \\\\\n",
       "\t NA  & NA  & NA  & NA  & NA  & NA  & NA  & NA  & NA  & NA  & ... & NA  & NA  & NA  & NA  & NA  & NA  & NA  & 23  & 1   & 1  \\\\\n",
       "\t NA  & NA  & NA  & NA  & NA  & NA  & NA  & NA  & NA  & NA  & ... & NA  & NA  & NA  & NA  & NA  & NA  & NA  & 24  & 1   & 1  \\\\\n",
       "\t NA  & NA  & NA  & NA  & NA  & NA  & NA  & NA  & NA  & NA  & ... & NA  & NA  & NA  & NA  & NA  & NA  & NA  & 25  & 1   & 1  \\\\\n",
       "\\end{tabular}\n"
      ],
      "text/plain": [
       "   X1 X2 X3 X4 X5 X6 X7 X8 X9 X10 ... X14 X15 X16 X17 X18 X19 X20 PSU stratum\n",
       "1   1  1  1  1  1  1  1  1  1  1  ...  1   1   1   1   1   1   1   1  1      \n",
       "2   0  1  1  1  1  1  1  1  1  1  ...  1   1   1   1   1   1   1   2  1      \n",
       "3   0  0  1  1  1  1  1  1  1  1  ...  1   1   1   1   1   1   1   3  1      \n",
       "4   0  0  0  1  1  1  1  1  1  1  ...  1   1   1   1   1   1   1   4  1      \n",
       "5   0  0  0  0  1  1  1  1  1  1  ...  1   1   1   1   1   1   1   5  1      \n",
       "6   0  0  0  0  0  1  1  1  1  1  ...  1   1   1   1   1   1   1   6  1      \n",
       "7   0  0  0  0  0  0  1  1  1  1  ...  1   1   1   1   1   1   1   7  1      \n",
       "8   0  0  0  0  0  0  0  1  1  1  ...  1   1   1   1   1   1   1   8  1      \n",
       "9   0  0  0  0  0  0  0  0  1  1  ...  1   1   1   1   1   1   1   9  1      \n",
       "10  0  0  0  0  0  0  0  0  0  1  ...  1   1   1   1   1   1   1  10  1      \n",
       "11  0  0  0  0  0  0  0  0  0  0  ...  1   1   1   1   1   1   1  11  1      \n",
       "12  0  0  0  0  0  0  0  0  0  0  ...  1   1   1   1   1   1   1  12  1      \n",
       "13  0  0  0  0  0  0  0  0  0  0  ...  1   1   1   1   1   1   1  13  1      \n",
       "14  0  0  0  0  0  0  0  0  0  0  ...  1   1   1   1   1   1   1  14  1      \n",
       "15  0  0  0  0  0  0  0  0  0  0  ...  0   1   1   1   1   1   1  15  1      \n",
       "16  0  0  0  0  0  0  0  0  0  0  ...  0   0   1   1   1   1   1  16  1      \n",
       "17  0  0  0  0  0  0  0  0  0  0  ...  0   0   0   1   1   1   1  17  1      \n",
       "18  0  0  0  0  0  0  0  0  0  0  ...  0   0   0   0   1   1   1  18  1      \n",
       "19  0  0  0  0  0  0  0  0  0  0  ...  0   0   0   0   0   1   1  19  1      \n",
       "20  0  0  0  0  0  0  0  0  0  0  ...  0   0   0   0   0   0   1  20  1      \n",
       "21 NA NA NA NA NA NA NA NA NA NA  ... NA  NA  NA  NA  NA  NA  NA  21  1      \n",
       "22 NA NA NA NA NA NA NA NA NA NA  ... NA  NA  NA  NA  NA  NA  NA  22  1      \n",
       "23 NA NA NA NA NA NA NA NA NA NA  ... NA  NA  NA  NA  NA  NA  NA  23  1      \n",
       "24 NA NA NA NA NA NA NA NA NA NA  ... NA  NA  NA  NA  NA  NA  NA  24  1      \n",
       "25 NA NA NA NA NA NA NA NA NA NA  ... NA  NA  NA  NA  NA  NA  NA  25  1      \n",
       "   weight\n",
       "1  1     \n",
       "2  1     \n",
       "3  1     \n",
       "4  1     \n",
       "5  1     \n",
       "6  1     \n",
       "7  1     \n",
       "8  1     \n",
       "9  1     \n",
       "10 1     \n",
       "11 1     \n",
       "12 1     \n",
       "13 1     \n",
       "14 1     \n",
       "15 1     \n",
       "16 1     \n",
       "17 1     \n",
       "18 1     \n",
       "19 1     \n",
       "20 1     \n",
       "21 1     \n",
       "22 1     \n",
       "23 1     \n",
       "24 1     \n",
       "25 1     "
      ]
     },
     "metadata": {},
     "output_type": "display_data"
    }
   ],
   "source": [
    "test.vec = function (i,n) c(rep(1,i), rep(0,n-i))    \n",
    "m = sapply(1:20,test.vec,20)\n",
    "m = rbind(m,matrix(rep(NA,100),ncol=20))\n",
    "m = data.frame(m)\n",
    "m$PSU = 1:25\n",
    "m$stratum = rep(1,25)\n",
    "m$weight = rep(1,25)\n",
    "m"
   ]
  },
  {
   "cell_type": "code",
   "execution_count": 5,
   "metadata": {
    "collapsed": false
   },
   "outputs": [
    {
     "data": {
      "text/html": [
       "<ol class=list-inline>\n",
       "\t<li>3</li>\n",
       "\t<li>0</li>\n",
       "\t<li>3</li>\n",
       "\t<li>13</li>\n",
       "\t<li>4</li>\n",
       "\t<li>17</li>\n",
       "\t<li>16</li>\n",
       "\t<li>4</li>\n",
       "\t<li>20</li>\n",
       "</ol>\n"
      ],
      "text/latex": [
       "\\begin{enumerate*}\n",
       "\\item 3\n",
       "\\item 0\n",
       "\\item 3\n",
       "\\item 13\n",
       "\\item 4\n",
       "\\item 17\n",
       "\\item 16\n",
       "\\item 4\n",
       "\\item 20\n",
       "\\end{enumerate*}\n"
      ],
      "text/markdown": [
       "1. 3\n",
       "2. 0\n",
       "3. 3\n",
       "4. 13\n",
       "5. 4\n",
       "6. 17\n",
       "7. 16\n",
       "8. 4\n",
       "9. 20\n",
       "\n",
       "\n"
      ],
      "text/plain": [
       "[1]  3  0  3 13  4 17 16  4 20"
      ]
     },
     "metadata": {},
     "output_type": "display_data"
    }
   ],
   "source": [
    "correct.column3 = function(g1,g2,r) {\n",
    "    if (r>g1 && r<g2) {\n",
    "        c(20-g2, 0, 20-g2, g2-g1, g1, g2, 20-g1, g1, 20)\n",
    "    }\n",
    "}\n",
    "\n",
    "correct.column3(4,17,12)"
   ]
  },
  {
   "cell_type": "code",
   "execution_count": 6,
   "metadata": {
    "collapsed": false
   },
   "outputs": [
    {
     "data": {
      "text/html": [
       "<table>\n",
       "<thead><tr><th scope=col>X4</th><th scope=col>X17</th><th scope=col>X12.count</th><th scope=col>X12.pct</th><th scope=col>X12.se</th><th scope=col>X12.ci.lo</th><th scope=col>X12.ci.hi</th></tr></thead>\n",
       "<tbody>\n",
       "\t<tr><td> 0    </td><td> 0    </td><td> 3    </td><td>  0.00</td><td> 0.00 </td><td>  NaN </td><td>  NaN </td></tr>\n",
       "\t<tr><td> 1    </td><td> 0    </td><td> 0    </td><td>  0.00</td><td> 0.00 </td><td> 0.00 </td><td> 0.00 </td></tr>\n",
       "\t<tr><td>-1    </td><td> 0    </td><td> 3    </td><td>  0.00</td><td> 0.00 </td><td>  NaN </td><td>  NaN </td></tr>\n",
       "\t<tr><td> 0    </td><td> 1    </td><td>13    </td><td> 61.54</td><td>13.77 </td><td>32.50 </td><td>84.17 </td></tr>\n",
       "\t<tr><td> 1    </td><td> 1    </td><td> 4    </td><td>100.00</td><td> 0.00 </td><td>  NaN </td><td>  NaN </td></tr>\n",
       "\t<tr><td>-1    </td><td> 1    </td><td>17    </td><td> 70.59</td><td>11.28 </td><td>43.89 </td><td>88.05 </td></tr>\n",
       "\t<tr><td> 0    </td><td>-1    </td><td>16    </td><td> 50.00</td><td>12.76 </td><td>25.86 </td><td>74.14 </td></tr>\n",
       "\t<tr><td> 1    </td><td>-1    </td><td> 4    </td><td>100.00</td><td> 0.00 </td><td>  NaN </td><td>  NaN </td></tr>\n",
       "\t<tr><td>-1    </td><td>-1    </td><td>20    </td><td> 48.00</td><td>10.20 </td><td>28.43 </td><td>68.21 </td></tr>\n",
       "</tbody>\n",
       "</table>\n"
      ],
      "text/latex": [
       "\\begin{tabular}{lllllll}\n",
       " X4 & X17 & X12.count & X12.pct & X12.se & X12.ci.lo & X12.ci.hi\\\\\n",
       "\\hline\n",
       "\t  0     &  0     &  3     &   0.00 &  0.00  &   NaN  &   NaN \\\\\n",
       "\t  1     &  0     &  0     &   0.00 &  0.00  &  0.00  &  0.00 \\\\\n",
       "\t -1     &  0     &  3     &   0.00 &  0.00  &   NaN  &   NaN \\\\\n",
       "\t  0     &  1     & 13     &  61.54 & 13.77  & 32.50  & 84.17 \\\\\n",
       "\t  1     &  1     &  4     & 100.00 &  0.00  &   NaN  &   NaN \\\\\n",
       "\t -1     &  1     & 17     &  70.59 & 11.28  & 43.89  & 88.05 \\\\\n",
       "\t  0     & -1     & 16     &  50.00 & 12.76  & 25.86  & 74.14 \\\\\n",
       "\t  1     & -1     &  4     & 100.00 &  0.00  &   NaN  &   NaN \\\\\n",
       "\t -1     & -1     & 20     &  48.00 & 10.20  & 28.43  & 68.21 \\\\\n",
       "\\end{tabular}\n"
      ],
      "text/markdown": [
       "1. 0\n",
       "2. 1\n",
       "3. -1\n",
       "4. 0\n",
       "5. 1\n",
       "6. -1\n",
       "7. 0\n",
       "8. 1\n",
       "9. -1\n",
       "10. 0\n",
       "11. 0\n",
       "12. 0\n",
       "13. 1\n",
       "14. 1\n",
       "15. 1\n",
       "16. -1\n",
       "17. -1\n",
       "18. -1\n",
       "19. 3\n",
       "20. 0\n",
       "21. 3\n",
       "22. 13\n",
       "23. 4\n",
       "24. 17\n",
       "25. 16\n",
       "26. 4\n",
       "27. 20\n",
       "28. 0\n",
       "29. 0\n",
       "30. 0\n",
       "31. 61.54\n",
       "32. 100\n",
       "33. 70.59\n",
       "34. 50\n",
       "35. 100\n",
       "36. 48\n",
       "37. 0\n",
       "38. 0\n",
       "39. 0\n",
       "40. 13.77\n",
       "41. 0\n",
       "42. 11.28\n",
       "43. 12.76\n",
       "44. 0\n",
       "45. 10.2\n",
       "46. NaN\n",
       "47. 0\n",
       "48. NaN\n",
       "49. 32.5\n",
       "50. NaN\n",
       "51. 43.89\n",
       "52. 25.86\n",
       "53. NaN\n",
       "54. 28.43\n",
       "55. NaN\n",
       "56. 0\n",
       "57. NaN\n",
       "58. 84.17\n",
       "59. NaN\n",
       "60. 88.05\n",
       "61. 74.14\n",
       "62. NaN\n",
       "63. 68.21\n",
       "\n",
       "\n"
      ],
      "text/plain": [
       "      X4 X17 X12.count X12.pct X12.se X12.ci.lo X12.ci.hi\n",
       " [1,]  0  0   3          0.00   0.00    NaN       NaN    \n",
       " [2,]  1  0   0          0.00   0.00   0.00      0.00    \n",
       " [3,] -1  0   3          0.00   0.00    NaN       NaN    \n",
       " [4,]  0  1  13         61.54  13.77  32.50     84.17    \n",
       " [5,]  1  1   4        100.00   0.00    NaN       NaN    \n",
       " [6,] -1  1  17         70.59  11.28  43.89     88.05    \n",
       " [7,]  0 -1  16         50.00  12.76  25.86     74.14    \n",
       " [8,]  1 -1   4        100.00   0.00    NaN       NaN    \n",
       " [9,] -1 -1  20         48.00  10.20  28.43     68.21    "
      ]
     },
     "metadata": {},
     "output_type": "display_data"
    }
   ],
   "source": [
    "res = yrbssCalculate(df=m, state='99', group.by=list(\"X4\",\"X17\"), positives=list(X12=1), filter=NULL, out.format=\"matrix\")\n",
    "res"
   ]
  },
  {
   "cell_type": "code",
   "execution_count": 7,
   "metadata": {
    "collapsed": false
   },
   "outputs": [
    {
     "data": {
      "text/html": [
       "FALSE"
      ],
      "text/latex": [
       "FALSE"
      ],
      "text/markdown": [
       "FALSE"
      ],
      "text/plain": [
       "[1] FALSE"
      ]
     },
     "metadata": {},
     "output_type": "display_data"
    }
   ],
   "source": [
    "any(res[,3]!=correct.column3(4,17,12))"
   ]
  },
  {
   "cell_type": "code",
   "execution_count": 8,
   "metadata": {
    "collapsed": true
   },
   "outputs": [],
   "source": [
    "test.column = function(k) function(m,g1,g2,r) {\n",
    "    group.by = as.list(paste0(\"X\", c(g1,g2)))\n",
    "    pos.name = paste0(\"X\",r)\n",
    "    positives = NULL\n",
    "    positives[[pos.name]] = 1\n",
    "    res = yrbssCalculate(df=m, state=\"99\", group.by=group.by, positives=positives, filter=NULL, out.format=\"matrix\")\n",
    "    res[,k]\n",
    "}\n",
    "\n",
    "test.column4 = test.column(4)\n",
    "test.column3 = test.column(3)"
   ]
  },
  {
   "cell_type": "code",
   "execution_count": 9,
   "metadata": {
    "collapsed": false
   },
   "outputs": [
    {
     "data": {
      "text/html": [
       "<ol class=list-inline>\n",
       "\t<li>3</li>\n",
       "\t<li>0</li>\n",
       "\t<li>3</li>\n",
       "\t<li>13</li>\n",
       "\t<li>4</li>\n",
       "\t<li>17</li>\n",
       "\t<li>16</li>\n",
       "\t<li>4</li>\n",
       "\t<li>20</li>\n",
       "</ol>\n"
      ],
      "text/latex": [
       "\\begin{enumerate*}\n",
       "\\item 3\n",
       "\\item 0\n",
       "\\item 3\n",
       "\\item 13\n",
       "\\item 4\n",
       "\\item 17\n",
       "\\item 16\n",
       "\\item 4\n",
       "\\item 20\n",
       "\\end{enumerate*}\n"
      ],
      "text/markdown": [
       "1. 3\n",
       "2. 0\n",
       "3. 3\n",
       "4. 13\n",
       "5. 4\n",
       "6. 17\n",
       "7. 16\n",
       "8. 4\n",
       "9. 20\n",
       "\n",
       "\n"
      ],
      "text/plain": [
       "[1]  3  0  3 13  4 17 16  4 20"
      ]
     },
     "metadata": {},
     "output_type": "display_data"
    }
   ],
   "source": [
    "test.column3(m,4,17,12)"
   ]
  },
  {
   "cell_type": "code",
   "execution_count": 10,
   "metadata": {
    "collapsed": false
   },
   "outputs": [
    {
     "data": {
      "text/html": [
       "<ol class=list-inline>\n",
       "\t<li>0</li>\n",
       "\t<li>0</li>\n",
       "\t<li>0</li>\n",
       "\t<li>61.54</li>\n",
       "\t<li>100</li>\n",
       "\t<li>70.59</li>\n",
       "\t<li>50</li>\n",
       "\t<li>100</li>\n",
       "\t<li>48</li>\n",
       "</ol>\n"
      ],
      "text/latex": [
       "\\begin{enumerate*}\n",
       "\\item 0\n",
       "\\item 0\n",
       "\\item 0\n",
       "\\item 61.54\n",
       "\\item 100\n",
       "\\item 70.59\n",
       "\\item 50\n",
       "\\item 100\n",
       "\\item 48\n",
       "\\end{enumerate*}\n"
      ],
      "text/markdown": [
       "1. 0\n",
       "2. 0\n",
       "3. 0\n",
       "4. 61.54\n",
       "5. 100\n",
       "6. 70.59\n",
       "7. 50\n",
       "8. 100\n",
       "9. 48\n",
       "\n",
       "\n"
      ],
      "text/plain": [
       "[1]   0.00   0.00   0.00  61.54 100.00  70.59  50.00 100.00  48.00"
      ]
     },
     "metadata": {},
     "output_type": "display_data"
    }
   ],
   "source": [
    "correct.column4 = function(g1,g2,r) {\n",
    "    v =\n",
    "    c(0,\n",
    "      0,\n",
    "      0,\n",
    "     (r-g1)/(g2-g1),\n",
    "      1,\n",
    "      r/g2,\n",
    "      (r-g1)/(20-g1),\n",
    "      1,\n",
    "      r/25)  \n",
    "    return(round(100*v,2))\n",
    "}\n",
    "correct.column4(4,17,12)"
   ]
  },
  {
   "cell_type": "code",
   "execution_count": 11,
   "metadata": {
    "collapsed": true
   },
   "outputs": [],
   "source": [
    "test.matrix = function () {\n",
    "    errors = 0\n",
    "    for (g1 in 1:17) {\n",
    "        for (g2 in (g1+2):19) {  # would have to rewrite correct.column3 to check g2=20\n",
    "            for (r in (g1+1):(g2-1)) {\n",
    "                if (any(test.column3(m,g1,g2,r) != correct.column3(g1,g2,r))) {\n",
    "                    cat(\"Failure for (g1,g2,r) column 3 = \", c(g1,g2,r), \"\\n\")\n",
    "                    errors = errors + 1\n",
    "                }  \n",
    "                if (any(test.column4(m,g1,g2,r) != correct.column4(g1,g2,r))) {\n",
    "                    cat(\"Failure for (g1,g2,r) column 4 = \", c(g1,g2,r), \"\\n\")\n",
    "                    cat(test.column4(m,g1,g2,r),\"\\n\",correct.column4(g1,g2,r), \"\\n\\n\")\n",
    "                    errors = errors + 1\n",
    "                }                \n",
    "            }\n",
    "        }\n",
    "    }\n",
    "    cat(errors, \" errors in m\\n\")\n",
    "    errors = 0\n",
    "    m1 = m[sample(25),]  # permute rows and try again.\n",
    "    for (g1 in 1:17) {\n",
    "        for (g2 in (g1+2):19) {  # would have to rewrite correct.column3 to check g2=20\n",
    "            for (r in (g1+1):(g2-1)) {\n",
    "                if (any(test.column3(m1,g1,g2,r) != correct.column3(g1,g2,r))) {\n",
    "                    cat(\"Failure for (g1,g2,r) column 3 = \", c(g1,g2,r), \"\\n\")\n",
    "                    errors = errors + 1\n",
    "                }   \n",
    "                if (any(test.column4(m1,g1,g2,r) != correct.column4(g1,g2,r))) {\n",
    "                    cat(\"Failure for (g1,g2,r) column 4 = \", c(g1,g2,r), \"\\n\")\n",
    "                    cat(test.column4(m,g1,g2,r),\"\\n\",correct.column4(g1,g2,r), \"\\n\\n\")\n",
    "                    errors = errors + 1\n",
    "                }                \n",
    "            }\n",
    "        }\n",
    "    }\n",
    "    cat(errors, \" errors in m1\\n\")\n",
    "}"
   ]
  },
  {
   "cell_type": "code",
   "execution_count": 12,
   "metadata": {
    "collapsed": false
   },
   "outputs": [
    {
     "name": "stdout",
     "output_type": "stream",
     "text": [
      "0  errors in m\n",
      "0  errors in m1\n"
     ]
    }
   ],
   "source": [
    "test.matrix()"
   ]
  },
  {
   "cell_type": "code",
   "execution_count": 13,
   "metadata": {
    "collapsed": false
   },
   "outputs": [
    {
     "data": {
      "text/html": [
       "<ol class=list-inline>\n",
       "\t<li>11</li>\n",
       "\t<li>9</li>\n",
       "\t<li>20</li>\n",
       "\t<li>11</li>\n",
       "\t<li>9</li>\n",
       "\t<li>20</li>\n",
       "</ol>\n"
      ],
      "text/latex": [
       "\\begin{enumerate*}\n",
       "\\item 11\n",
       "\\item 9\n",
       "\\item 20\n",
       "\\item 11\n",
       "\\item 9\n",
       "\\item 20\n",
       "\\end{enumerate*}\n"
      ],
      "text/markdown": [
       "1. 11\n",
       "2. 9\n",
       "3. 20\n",
       "4. 11\n",
       "5. 9\n",
       "6. 20\n",
       "\n",
       "\n"
      ],
      "text/plain": [
       "[1] 11  9 20 11  9 20"
      ]
     },
     "metadata": {},
     "output_type": "display_data"
    }
   ],
   "source": [
    "test.column3(m,9,20,18)  # is correct."
   ]
  },
  {
   "cell_type": "markdown",
   "metadata": {},
   "source": [
    "Now some systematic testing of filtering.  We set up a matrix in which the columns are exactly the binary representation of the integers 0 to 127.  Then we filter on combinations of columns, and look at another column as response variable.  We should always find a proportion of 1/2, by construction."
   ]
  },
  {
   "cell_type": "code",
   "execution_count": 14,
   "metadata": {
    "collapsed": false
   },
   "outputs": [
    {
     "data": {
      "text/html": [
       "<ol class=list-inline>\n",
       "\t<li>0</li>\n",
       "\t<li>0</li>\n",
       "\t<li>0</li>\n",
       "\t<li>0</li>\n",
       "\t<li>1</li>\n",
       "\t<li>1</li>\n",
       "\t<li>1</li>\n",
       "\t<li>1</li>\n",
       "\t<li>0</li>\n",
       "\t<li>0</li>\n",
       "\t<li>0</li>\n",
       "\t<li>0</li>\n",
       "\t<li>1</li>\n",
       "\t<li>1</li>\n",
       "\t<li>1</li>\n",
       "\t<li>1</li>\n",
       "\t<li>0</li>\n",
       "\t<li>0</li>\n",
       "\t<li>0</li>\n",
       "\t<li>0</li>\n",
       "\t<li>1</li>\n",
       "\t<li>1</li>\n",
       "\t<li>1</li>\n",
       "\t<li>1</li>\n",
       "\t<li>0</li>\n",
       "\t<li>0</li>\n",
       "\t<li>0</li>\n",
       "\t<li>0</li>\n",
       "\t<li>1</li>\n",
       "\t<li>1</li>\n",
       "\t<li>1</li>\n",
       "\t<li>1</li>\n",
       "</ol>\n"
      ],
      "text/latex": [
       "\\begin{enumerate*}\n",
       "\\item 0\n",
       "\\item 0\n",
       "\\item 0\n",
       "\\item 0\n",
       "\\item 1\n",
       "\\item 1\n",
       "\\item 1\n",
       "\\item 1\n",
       "\\item 0\n",
       "\\item 0\n",
       "\\item 0\n",
       "\\item 0\n",
       "\\item 1\n",
       "\\item 1\n",
       "\\item 1\n",
       "\\item 1\n",
       "\\item 0\n",
       "\\item 0\n",
       "\\item 0\n",
       "\\item 0\n",
       "\\item 1\n",
       "\\item 1\n",
       "\\item 1\n",
       "\\item 1\n",
       "\\item 0\n",
       "\\item 0\n",
       "\\item 0\n",
       "\\item 0\n",
       "\\item 1\n",
       "\\item 1\n",
       "\\item 1\n",
       "\\item 1\n",
       "\\end{enumerate*}\n"
      ],
      "text/markdown": [
       "1. 0\n",
       "2. 0\n",
       "3. 0\n",
       "4. 0\n",
       "5. 1\n",
       "6. 1\n",
       "7. 1\n",
       "8. 1\n",
       "9. 0\n",
       "10. 0\n",
       "11. 0\n",
       "12. 0\n",
       "13. 1\n",
       "14. 1\n",
       "15. 1\n",
       "16. 1\n",
       "17. 0\n",
       "18. 0\n",
       "19. 0\n",
       "20. 0\n",
       "21. 1\n",
       "22. 1\n",
       "23. 1\n",
       "24. 1\n",
       "25. 0\n",
       "26. 0\n",
       "27. 0\n",
       "28. 0\n",
       "29. 1\n",
       "30. 1\n",
       "31. 1\n",
       "32. 1\n",
       "\n",
       "\n"
      ],
      "text/plain": [
       " [1] 0 0 0 0 1 1 1 1 0 0 0 0 1 1 1 1 0 0 0 0 1 1 1 1 0 0 0 0 1 1 1 1"
      ]
     },
     "metadata": {},
     "output_type": "display_data"
    }
   ],
   "source": [
    "### Now a new matrix....\n",
    "kol = function(i,m) rep(c(rep(0,2^(i-1)), rep(1,2^(i-1))), 2^(m-i))\n",
    "kol(3,5)"
   ]
  },
  {
   "cell_type": "code",
   "execution_count": 15,
   "metadata": {
    "collapsed": false
   },
   "outputs": [
    {
     "data": {
      "text/html": [
       "<table>\n",
       "<thead><tr><th scope=col>X1</th><th scope=col>X2</th><th scope=col>X3</th><th scope=col>X4</th><th scope=col>X5</th><th scope=col>X6</th><th scope=col>PSU</th><th scope=col>weight</th><th scope=col>stratum</th></tr></thead>\n",
       "<tbody>\n",
       "\t<tr><td>0 </td><td>0 </td><td>0 </td><td>0 </td><td>0 </td><td>0 </td><td> 1</td><td>1 </td><td>1 </td></tr>\n",
       "\t<tr><td>1 </td><td>0 </td><td>0 </td><td>0 </td><td>0 </td><td>0 </td><td> 2</td><td>1 </td><td>1 </td></tr>\n",
       "\t<tr><td>0 </td><td>1 </td><td>0 </td><td>0 </td><td>0 </td><td>0 </td><td> 3</td><td>1 </td><td>1 </td></tr>\n",
       "\t<tr><td>1 </td><td>1 </td><td>0 </td><td>0 </td><td>0 </td><td>0 </td><td> 4</td><td>1 </td><td>1 </td></tr>\n",
       "\t<tr><td>0 </td><td>0 </td><td>1 </td><td>0 </td><td>0 </td><td>0 </td><td> 5</td><td>1 </td><td>1 </td></tr>\n",
       "\t<tr><td>1 </td><td>0 </td><td>1 </td><td>0 </td><td>0 </td><td>0 </td><td> 6</td><td>1 </td><td>1 </td></tr>\n",
       "\t<tr><td>0 </td><td>1 </td><td>1 </td><td>0 </td><td>0 </td><td>0 </td><td> 7</td><td>1 </td><td>1 </td></tr>\n",
       "\t<tr><td>1 </td><td>1 </td><td>1 </td><td>0 </td><td>0 </td><td>0 </td><td> 8</td><td>1 </td><td>1 </td></tr>\n",
       "\t<tr><td>0 </td><td>0 </td><td>0 </td><td>1 </td><td>0 </td><td>0 </td><td> 9</td><td>1 </td><td>1 </td></tr>\n",
       "\t<tr><td>1 </td><td>0 </td><td>0 </td><td>1 </td><td>0 </td><td>0 </td><td>10</td><td>1 </td><td>1 </td></tr>\n",
       "\t<tr><td>0 </td><td>1 </td><td>0 </td><td>1 </td><td>0 </td><td>0 </td><td>11</td><td>1 </td><td>1 </td></tr>\n",
       "\t<tr><td>1 </td><td>1 </td><td>0 </td><td>1 </td><td>0 </td><td>0 </td><td>12</td><td>1 </td><td>1 </td></tr>\n",
       "\t<tr><td>0 </td><td>0 </td><td>1 </td><td>1 </td><td>0 </td><td>0 </td><td>13</td><td>1 </td><td>1 </td></tr>\n",
       "\t<tr><td>1 </td><td>0 </td><td>1 </td><td>1 </td><td>0 </td><td>0 </td><td>14</td><td>1 </td><td>1 </td></tr>\n",
       "\t<tr><td>0 </td><td>1 </td><td>1 </td><td>1 </td><td>0 </td><td>0 </td><td>15</td><td>1 </td><td>1 </td></tr>\n",
       "\t<tr><td>1 </td><td>1 </td><td>1 </td><td>1 </td><td>0 </td><td>0 </td><td>16</td><td>1 </td><td>1 </td></tr>\n",
       "\t<tr><td>0 </td><td>0 </td><td>0 </td><td>0 </td><td>1 </td><td>0 </td><td>17</td><td>1 </td><td>1 </td></tr>\n",
       "\t<tr><td>1 </td><td>0 </td><td>0 </td><td>0 </td><td>1 </td><td>0 </td><td>18</td><td>1 </td><td>1 </td></tr>\n",
       "\t<tr><td>0 </td><td>1 </td><td>0 </td><td>0 </td><td>1 </td><td>0 </td><td>19</td><td>1 </td><td>1 </td></tr>\n",
       "\t<tr><td>1 </td><td>1 </td><td>0 </td><td>0 </td><td>1 </td><td>0 </td><td>20</td><td>1 </td><td>1 </td></tr>\n",
       "\t<tr><td>0 </td><td>0 </td><td>1 </td><td>0 </td><td>1 </td><td>0 </td><td>21</td><td>1 </td><td>1 </td></tr>\n",
       "\t<tr><td>1 </td><td>0 </td><td>1 </td><td>0 </td><td>1 </td><td>0 </td><td>22</td><td>1 </td><td>1 </td></tr>\n",
       "\t<tr><td>0 </td><td>1 </td><td>1 </td><td>0 </td><td>1 </td><td>0 </td><td>23</td><td>1 </td><td>1 </td></tr>\n",
       "\t<tr><td>1 </td><td>1 </td><td>1 </td><td>0 </td><td>1 </td><td>0 </td><td>24</td><td>1 </td><td>1 </td></tr>\n",
       "\t<tr><td>0 </td><td>0 </td><td>0 </td><td>1 </td><td>1 </td><td>0 </td><td>25</td><td>1 </td><td>1 </td></tr>\n",
       "\t<tr><td>1 </td><td>0 </td><td>0 </td><td>1 </td><td>1 </td><td>0 </td><td>26</td><td>1 </td><td>1 </td></tr>\n",
       "\t<tr><td>0 </td><td>1 </td><td>0 </td><td>1 </td><td>1 </td><td>0 </td><td>27</td><td>1 </td><td>1 </td></tr>\n",
       "\t<tr><td>1 </td><td>1 </td><td>0 </td><td>1 </td><td>1 </td><td>0 </td><td>28</td><td>1 </td><td>1 </td></tr>\n",
       "\t<tr><td>0 </td><td>0 </td><td>1 </td><td>1 </td><td>1 </td><td>0 </td><td>29</td><td>1 </td><td>1 </td></tr>\n",
       "\t<tr><td>1 </td><td>0 </td><td>1 </td><td>1 </td><td>1 </td><td>0 </td><td>30</td><td>1 </td><td>1 </td></tr>\n",
       "\t<tr><td>...</td><td>...</td><td>...</td><td>...</td><td>...</td><td>...</td><td>...</td><td>...</td><td>...</td></tr>\n",
       "\t<tr><td>0  </td><td>1  </td><td>0  </td><td>0  </td><td>0  </td><td>1  </td><td> 99</td><td>1  </td><td>1  </td></tr>\n",
       "\t<tr><td>1  </td><td>1  </td><td>0  </td><td>0  </td><td>0  </td><td>1  </td><td>100</td><td>1  </td><td>1  </td></tr>\n",
       "\t<tr><td>0  </td><td>0  </td><td>1  </td><td>0  </td><td>0  </td><td>1  </td><td>101</td><td>1  </td><td>1  </td></tr>\n",
       "\t<tr><td>1  </td><td>0  </td><td>1  </td><td>0  </td><td>0  </td><td>1  </td><td>102</td><td>1  </td><td>1  </td></tr>\n",
       "\t<tr><td>0  </td><td>1  </td><td>1  </td><td>0  </td><td>0  </td><td>1  </td><td>103</td><td>1  </td><td>1  </td></tr>\n",
       "\t<tr><td>1  </td><td>1  </td><td>1  </td><td>0  </td><td>0  </td><td>1  </td><td>104</td><td>1  </td><td>1  </td></tr>\n",
       "\t<tr><td>0  </td><td>0  </td><td>0  </td><td>1  </td><td>0  </td><td>1  </td><td>105</td><td>1  </td><td>1  </td></tr>\n",
       "\t<tr><td>1  </td><td>0  </td><td>0  </td><td>1  </td><td>0  </td><td>1  </td><td>106</td><td>1  </td><td>1  </td></tr>\n",
       "\t<tr><td>0  </td><td>1  </td><td>0  </td><td>1  </td><td>0  </td><td>1  </td><td>107</td><td>1  </td><td>1  </td></tr>\n",
       "\t<tr><td>1  </td><td>1  </td><td>0  </td><td>1  </td><td>0  </td><td>1  </td><td>108</td><td>1  </td><td>1  </td></tr>\n",
       "\t<tr><td>0  </td><td>0  </td><td>1  </td><td>1  </td><td>0  </td><td>1  </td><td>109</td><td>1  </td><td>1  </td></tr>\n",
       "\t<tr><td>1  </td><td>0  </td><td>1  </td><td>1  </td><td>0  </td><td>1  </td><td>110</td><td>1  </td><td>1  </td></tr>\n",
       "\t<tr><td>0  </td><td>1  </td><td>1  </td><td>1  </td><td>0  </td><td>1  </td><td>111</td><td>1  </td><td>1  </td></tr>\n",
       "\t<tr><td>1  </td><td>1  </td><td>1  </td><td>1  </td><td>0  </td><td>1  </td><td>112</td><td>1  </td><td>1  </td></tr>\n",
       "\t<tr><td>0  </td><td>0  </td><td>0  </td><td>0  </td><td>1  </td><td>1  </td><td>113</td><td>1  </td><td>1  </td></tr>\n",
       "\t<tr><td>1  </td><td>0  </td><td>0  </td><td>0  </td><td>1  </td><td>1  </td><td>114</td><td>1  </td><td>1  </td></tr>\n",
       "\t<tr><td>0  </td><td>1  </td><td>0  </td><td>0  </td><td>1  </td><td>1  </td><td>115</td><td>1  </td><td>1  </td></tr>\n",
       "\t<tr><td>1  </td><td>1  </td><td>0  </td><td>0  </td><td>1  </td><td>1  </td><td>116</td><td>1  </td><td>1  </td></tr>\n",
       "\t<tr><td>0  </td><td>0  </td><td>1  </td><td>0  </td><td>1  </td><td>1  </td><td>117</td><td>1  </td><td>1  </td></tr>\n",
       "\t<tr><td>1  </td><td>0  </td><td>1  </td><td>0  </td><td>1  </td><td>1  </td><td>118</td><td>1  </td><td>1  </td></tr>\n",
       "\t<tr><td>0  </td><td>1  </td><td>1  </td><td>0  </td><td>1  </td><td>1  </td><td>119</td><td>1  </td><td>1  </td></tr>\n",
       "\t<tr><td>1  </td><td>1  </td><td>1  </td><td>0  </td><td>1  </td><td>1  </td><td>120</td><td>1  </td><td>1  </td></tr>\n",
       "\t<tr><td>0  </td><td>0  </td><td>0  </td><td>1  </td><td>1  </td><td>1  </td><td>121</td><td>1  </td><td>1  </td></tr>\n",
       "\t<tr><td>1  </td><td>0  </td><td>0  </td><td>1  </td><td>1  </td><td>1  </td><td>122</td><td>1  </td><td>1  </td></tr>\n",
       "\t<tr><td>0  </td><td>1  </td><td>0  </td><td>1  </td><td>1  </td><td>1  </td><td>123</td><td>1  </td><td>1  </td></tr>\n",
       "\t<tr><td>1  </td><td>1  </td><td>0  </td><td>1  </td><td>1  </td><td>1  </td><td>124</td><td>1  </td><td>1  </td></tr>\n",
       "\t<tr><td>0  </td><td>0  </td><td>1  </td><td>1  </td><td>1  </td><td>1  </td><td>125</td><td>1  </td><td>1  </td></tr>\n",
       "\t<tr><td>1  </td><td>0  </td><td>1  </td><td>1  </td><td>1  </td><td>1  </td><td>126</td><td>1  </td><td>1  </td></tr>\n",
       "\t<tr><td>0  </td><td>1  </td><td>1  </td><td>1  </td><td>1  </td><td>1  </td><td>127</td><td>1  </td><td>1  </td></tr>\n",
       "\t<tr><td>1  </td><td>1  </td><td>1  </td><td>1  </td><td>1  </td><td>1  </td><td>128</td><td>1  </td><td>1  </td></tr>\n",
       "</tbody>\n",
       "</table>\n"
      ],
      "text/latex": [
       "\\begin{tabular}{r|lllllllll}\n",
       " X1 & X2 & X3 & X4 & X5 & X6 & PSU & weight & stratum\\\\\n",
       "\\hline\n",
       "\t 0  & 0  & 0  & 0  & 0  & 0  &  1 & 1  & 1 \\\\\n",
       "\t 1  & 0  & 0  & 0  & 0  & 0  &  2 & 1  & 1 \\\\\n",
       "\t 0  & 1  & 0  & 0  & 0  & 0  &  3 & 1  & 1 \\\\\n",
       "\t 1  & 1  & 0  & 0  & 0  & 0  &  4 & 1  & 1 \\\\\n",
       "\t 0  & 0  & 1  & 0  & 0  & 0  &  5 & 1  & 1 \\\\\n",
       "\t 1  & 0  & 1  & 0  & 0  & 0  &  6 & 1  & 1 \\\\\n",
       "\t 0  & 1  & 1  & 0  & 0  & 0  &  7 & 1  & 1 \\\\\n",
       "\t 1  & 1  & 1  & 0  & 0  & 0  &  8 & 1  & 1 \\\\\n",
       "\t 0  & 0  & 0  & 1  & 0  & 0  &  9 & 1  & 1 \\\\\n",
       "\t 1  & 0  & 0  & 1  & 0  & 0  & 10 & 1  & 1 \\\\\n",
       "\t 0  & 1  & 0  & 1  & 0  & 0  & 11 & 1  & 1 \\\\\n",
       "\t 1  & 1  & 0  & 1  & 0  & 0  & 12 & 1  & 1 \\\\\n",
       "\t 0  & 0  & 1  & 1  & 0  & 0  & 13 & 1  & 1 \\\\\n",
       "\t 1  & 0  & 1  & 1  & 0  & 0  & 14 & 1  & 1 \\\\\n",
       "\t 0  & 1  & 1  & 1  & 0  & 0  & 15 & 1  & 1 \\\\\n",
       "\t 1  & 1  & 1  & 1  & 0  & 0  & 16 & 1  & 1 \\\\\n",
       "\t 0  & 0  & 0  & 0  & 1  & 0  & 17 & 1  & 1 \\\\\n",
       "\t 1  & 0  & 0  & 0  & 1  & 0  & 18 & 1  & 1 \\\\\n",
       "\t 0  & 1  & 0  & 0  & 1  & 0  & 19 & 1  & 1 \\\\\n",
       "\t 1  & 1  & 0  & 0  & 1  & 0  & 20 & 1  & 1 \\\\\n",
       "\t 0  & 0  & 1  & 0  & 1  & 0  & 21 & 1  & 1 \\\\\n",
       "\t 1  & 0  & 1  & 0  & 1  & 0  & 22 & 1  & 1 \\\\\n",
       "\t 0  & 1  & 1  & 0  & 1  & 0  & 23 & 1  & 1 \\\\\n",
       "\t 1  & 1  & 1  & 0  & 1  & 0  & 24 & 1  & 1 \\\\\n",
       "\t 0  & 0  & 0  & 1  & 1  & 0  & 25 & 1  & 1 \\\\\n",
       "\t 1  & 0  & 0  & 1  & 1  & 0  & 26 & 1  & 1 \\\\\n",
       "\t 0  & 1  & 0  & 1  & 1  & 0  & 27 & 1  & 1 \\\\\n",
       "\t 1  & 1  & 0  & 1  & 1  & 0  & 28 & 1  & 1 \\\\\n",
       "\t 0  & 0  & 1  & 1  & 1  & 0  & 29 & 1  & 1 \\\\\n",
       "\t 1  & 0  & 1  & 1  & 1  & 0  & 30 & 1  & 1 \\\\\n",
       "\t ... & ... & ... & ... & ... & ... & ... & ... & ...\\\\\n",
       "\t 0   & 1   & 0   & 0   & 0   & 1   &  99 & 1   & 1  \\\\\n",
       "\t 1   & 1   & 0   & 0   & 0   & 1   & 100 & 1   & 1  \\\\\n",
       "\t 0   & 0   & 1   & 0   & 0   & 1   & 101 & 1   & 1  \\\\\n",
       "\t 1   & 0   & 1   & 0   & 0   & 1   & 102 & 1   & 1  \\\\\n",
       "\t 0   & 1   & 1   & 0   & 0   & 1   & 103 & 1   & 1  \\\\\n",
       "\t 1   & 1   & 1   & 0   & 0   & 1   & 104 & 1   & 1  \\\\\n",
       "\t 0   & 0   & 0   & 1   & 0   & 1   & 105 & 1   & 1  \\\\\n",
       "\t 1   & 0   & 0   & 1   & 0   & 1   & 106 & 1   & 1  \\\\\n",
       "\t 0   & 1   & 0   & 1   & 0   & 1   & 107 & 1   & 1  \\\\\n",
       "\t 1   & 1   & 0   & 1   & 0   & 1   & 108 & 1   & 1  \\\\\n",
       "\t 0   & 0   & 1   & 1   & 0   & 1   & 109 & 1   & 1  \\\\\n",
       "\t 1   & 0   & 1   & 1   & 0   & 1   & 110 & 1   & 1  \\\\\n",
       "\t 0   & 1   & 1   & 1   & 0   & 1   & 111 & 1   & 1  \\\\\n",
       "\t 1   & 1   & 1   & 1   & 0   & 1   & 112 & 1   & 1  \\\\\n",
       "\t 0   & 0   & 0   & 0   & 1   & 1   & 113 & 1   & 1  \\\\\n",
       "\t 1   & 0   & 0   & 0   & 1   & 1   & 114 & 1   & 1  \\\\\n",
       "\t 0   & 1   & 0   & 0   & 1   & 1   & 115 & 1   & 1  \\\\\n",
       "\t 1   & 1   & 0   & 0   & 1   & 1   & 116 & 1   & 1  \\\\\n",
       "\t 0   & 0   & 1   & 0   & 1   & 1   & 117 & 1   & 1  \\\\\n",
       "\t 1   & 0   & 1   & 0   & 1   & 1   & 118 & 1   & 1  \\\\\n",
       "\t 0   & 1   & 1   & 0   & 1   & 1   & 119 & 1   & 1  \\\\\n",
       "\t 1   & 1   & 1   & 0   & 1   & 1   & 120 & 1   & 1  \\\\\n",
       "\t 0   & 0   & 0   & 1   & 1   & 1   & 121 & 1   & 1  \\\\\n",
       "\t 1   & 0   & 0   & 1   & 1   & 1   & 122 & 1   & 1  \\\\\n",
       "\t 0   & 1   & 0   & 1   & 1   & 1   & 123 & 1   & 1  \\\\\n",
       "\t 1   & 1   & 0   & 1   & 1   & 1   & 124 & 1   & 1  \\\\\n",
       "\t 0   & 0   & 1   & 1   & 1   & 1   & 125 & 1   & 1  \\\\\n",
       "\t 1   & 0   & 1   & 1   & 1   & 1   & 126 & 1   & 1  \\\\\n",
       "\t 0   & 1   & 1   & 1   & 1   & 1   & 127 & 1   & 1  \\\\\n",
       "\t 1   & 1   & 1   & 1   & 1   & 1   & 128 & 1   & 1  \\\\\n",
       "\\end{tabular}\n"
      ],
      "text/plain": [
       "    X1  X2  X3  X4  X5  X6  PSU weight stratum\n",
       "1   0   0   0   0   0   0    1  1      1      \n",
       "2   1   0   0   0   0   0    2  1      1      \n",
       "3   0   1   0   0   0   0    3  1      1      \n",
       "4   1   1   0   0   0   0    4  1      1      \n",
       "5   0   0   1   0   0   0    5  1      1      \n",
       "6   1   0   1   0   0   0    6  1      1      \n",
       "7   0   1   1   0   0   0    7  1      1      \n",
       "8   1   1   1   0   0   0    8  1      1      \n",
       "9   0   0   0   1   0   0    9  1      1      \n",
       "10  1   0   0   1   0   0   10  1      1      \n",
       "11  0   1   0   1   0   0   11  1      1      \n",
       "12  1   1   0   1   0   0   12  1      1      \n",
       "13  0   0   1   1   0   0   13  1      1      \n",
       "14  1   0   1   1   0   0   14  1      1      \n",
       "15  0   1   1   1   0   0   15  1      1      \n",
       "16  1   1   1   1   0   0   16  1      1      \n",
       "17  0   0   0   0   1   0   17  1      1      \n",
       "18  1   0   0   0   1   0   18  1      1      \n",
       "19  0   1   0   0   1   0   19  1      1      \n",
       "20  1   1   0   0   1   0   20  1      1      \n",
       "21  0   0   1   0   1   0   21  1      1      \n",
       "22  1   0   1   0   1   0   22  1      1      \n",
       "23  0   1   1   0   1   0   23  1      1      \n",
       "24  1   1   1   0   1   0   24  1      1      \n",
       "25  0   0   0   1   1   0   25  1      1      \n",
       "26  1   0   0   1   1   0   26  1      1      \n",
       "27  0   1   0   1   1   0   27  1      1      \n",
       "28  1   1   0   1   1   0   28  1      1      \n",
       "29  0   0   1   1   1   0   29  1      1      \n",
       "30  1   0   1   1   1   0   30  1      1      \n",
       "... ... ... ... ... ... ... ... ...    ...    \n",
       "99  0   1   0   0   0   1    99 1      1      \n",
       "100 1   1   0   0   0   1   100 1      1      \n",
       "101 0   0   1   0   0   1   101 1      1      \n",
       "102 1   0   1   0   0   1   102 1      1      \n",
       "103 0   1   1   0   0   1   103 1      1      \n",
       "104 1   1   1   0   0   1   104 1      1      \n",
       "105 0   0   0   1   0   1   105 1      1      \n",
       "106 1   0   0   1   0   1   106 1      1      \n",
       "107 0   1   0   1   0   1   107 1      1      \n",
       "108 1   1   0   1   0   1   108 1      1      \n",
       "109 0   0   1   1   0   1   109 1      1      \n",
       "110 1   0   1   1   0   1   110 1      1      \n",
       "111 0   1   1   1   0   1   111 1      1      \n",
       "112 1   1   1   1   0   1   112 1      1      \n",
       "113 0   0   0   0   1   1   113 1      1      \n",
       "114 1   0   0   0   1   1   114 1      1      \n",
       "115 0   1   0   0   1   1   115 1      1      \n",
       "116 1   1   0   0   1   1   116 1      1      \n",
       "117 0   0   1   0   1   1   117 1      1      \n",
       "118 1   0   1   0   1   1   118 1      1      \n",
       "119 0   1   1   0   1   1   119 1      1      \n",
       "120 1   1   1   0   1   1   120 1      1      \n",
       "121 0   0   0   1   1   1   121 1      1      \n",
       "122 1   0   0   1   1   1   122 1      1      \n",
       "123 0   1   0   1   1   1   123 1      1      \n",
       "124 1   1   0   1   1   1   124 1      1      \n",
       "125 0   0   1   1   1   1   125 1      1      \n",
       "126 1   0   1   1   1   1   126 1      1      \n",
       "127 0   1   1   1   1   1   127 1      1      \n",
       "128 1   1   1   1   1   1   128 1      1      "
      ]
     },
     "metadata": {},
     "output_type": "display_data"
    }
   ],
   "source": [
    "m = data.frame(sapply(1:6, kol, 7))\n",
    "m$PSU = 1:2^7\n",
    "m$weight = rep(1,2^7)\n",
    "m$stratum = rep(1,2^7)\n",
    "m"
   ]
  },
  {
   "cell_type": "code",
   "execution_count": 16,
   "metadata": {
    "collapsed": false
   },
   "outputs": [
    {
     "data": {
      "text/html": [
       "<table>\n",
       "<thead><tr><th scope=col>X2.count</th><th scope=col>X2.pct</th><th scope=col>X2.se</th><th scope=col>X2.ci.lo</th><th scope=col>X2.ci.hi</th></tr></thead>\n",
       "<tbody>\n",
       "\t<tr><td>32   </td><td>50   </td><td>8.87 </td><td>33.13</td><td>66.87</td></tr>\n",
       "\t<tr><td>32   </td><td>50   </td><td>8.87 </td><td>33.13</td><td>66.87</td></tr>\n",
       "</tbody>\n",
       "</table>\n"
      ],
      "text/latex": [
       "\\begin{tabular}{lllll}\n",
       " X2.count & X2.pct & X2.se & X2.ci.lo & X2.ci.hi\\\\\n",
       "\\hline\n",
       "\t 32    & 50    & 8.87  & 33.13 & 66.87\\\\\n",
       "\t 32    & 50    & 8.87  & 33.13 & 66.87\\\\\n",
       "\\end{tabular}\n"
      ],
      "text/markdown": [
       "1. 32\n",
       "2. 32\n",
       "3. 50\n",
       "4. 50\n",
       "5. 8.87\n",
       "6. 8.87\n",
       "7. 33.13\n",
       "8. 33.13\n",
       "9. 66.87\n",
       "10. 66.87\n",
       "\n",
       "\n"
      ],
      "text/plain": [
       "     X2.count X2.pct X2.se X2.ci.lo X2.ci.hi\n",
       "[1,] 32       50     8.87  33.13    66.87   \n",
       "[2,] 32       50     8.87  33.13    66.87   "
      ]
     },
     "metadata": {},
     "output_type": "display_data"
    }
   ],
   "source": [
    "yrbssCalculate(df=m,state=\"99\",filter=list(X1=0,X3=1), positive=list(X2=1), group.by=NULL, out.format=\"matrix\")"
   ]
  },
  {
   "cell_type": "code",
   "execution_count": 17,
   "metadata": {
    "collapsed": false
   },
   "outputs": [
    {
     "name": "stdout",
     "output_type": "stream",
     "text": [
      "0 errors."
     ]
    }
   ],
   "source": [
    "errors = 0\n",
    "for (i in 1:5) {\n",
    "    for (j in 1:10) {\n",
    "        s = sample(6,i+1)\n",
    "        fil = s[-1]\n",
    "        pos = s[1]\n",
    "        fil = paste0(\"X\",fil)\n",
    "        pos = paste0(\"X\",pos)\n",
    "        positive=NULL\n",
    "        positive[[pos]] = sample(0:1, 1)\n",
    "        filters = NULL\n",
    "        for (x in fil) {\n",
    "            filters[[x]] = sample(0:1, 1)\n",
    "        }\n",
    "        mat = yrbssCalculate(df=m,state=\"99\",filter=filters, positive=positive, group.by=NULL, out.format=\"matrix\")\n",
    "        if (mat[1,1] != 2^(7-i) | mat[2,1] != 2^(7-i) | mat[1,2] != 50 | mat[2,2] != 50) {\n",
    "            print(\"ERROR!\")\n",
    "            print(mat)\n",
    "            errors = errors + 1\n",
    "        }\n",
    "    }\n",
    "}\n",
    "cat(errors, \"errors.\")"
   ]
  },
  {
   "cell_type": "markdown",
   "metadata": {},
   "source": [
    "As bugs are found and fixed, regression tests should be added below."
   ]
  },
  {
   "cell_type": "code",
   "execution_count": null,
   "metadata": {
    "collapsed": true
   },
   "outputs": [],
   "source": []
  }
 ],
 "metadata": {
  "kernelspec": {
   "display_name": "R",
   "language": "R",
   "name": "ir"
  },
  "language_info": {
   "codemirror_mode": "r",
   "file_extension": ".r",
   "mimetype": "text/x-r-source",
   "name": "R",
   "pygments_lexer": "r",
   "version": "3.3.1"
  }
 },
 "nbformat": 4,
 "nbformat_minor": 0
}
